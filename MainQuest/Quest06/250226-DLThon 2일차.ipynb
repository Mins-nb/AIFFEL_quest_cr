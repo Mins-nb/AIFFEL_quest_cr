{
 "cells": [
  {
   "cell_type": "markdown",
   "id": "cd20b10c",
   "metadata": {},
   "source": [
    "# [DLthon] 오늘의 계획\n",
    "- Task에 알맞는 적절한 모델 선정\n",
    "- 모델 구축\n",
    "- 적절한 metric 설정"
   ]
  },
  {
   "cell_type": "markdown",
   "id": "647d88f5",
   "metadata": {},
   "source": [
    "# VGG16 모델"
   ]
  },
  {
   "cell_type": "code",
   "execution_count": 4,
   "id": "1d15ba3e",
   "metadata": {},
   "outputs": [],
   "source": [
    "import tensorflow as tf\n",
    "import matplotlib.pyplot as plt\n",
    "from tensorflow.keras.preprocessing.image import ImageDataGenerator\n",
    "from tensorflow.keras.applications.vgg16 import VGG16\n",
    "from tensorflow.keras.models import Model\n",
    "from tensorflow.keras.layers import Dense, Flatten, Dropout, BatchNormalization\n",
    "from tensorflow.keras.optimizers import SGD\n",
    "from tensorflow.keras.callbacks import ReduceLROnPlateau, EarlyStopping\n",
    "import os"
   ]
  },
  {
   "cell_type": "code",
   "execution_count": 63,
   "id": "0bec4906",
   "metadata": {},
   "outputs": [],
   "source": [
    "# 데이터 경로 설정\n",
    "base_dir = \"./Train_Test_Valid_preprocessed\"\n",
    "train_dir = os.path.join(base_dir, \"Train_Cleaned\")\n",
    "valid_dir = os.path.join(base_dir, \"valid\")\n",
    "test_dir = os.path.join(base_dir, \"test\")"
   ]
  },
  {
   "cell_type": "code",
   "execution_count": 64,
   "id": "f7354820",
   "metadata": {},
   "outputs": [],
   "source": [
    "# 하이퍼파라미터 설정\n",
    "IMG_SIZE = (224, 224)\n",
    "BATCH_SIZE = 32\n",
    "EPOCHS = 20"
   ]
  },
  {
   "cell_type": "code",
   "execution_count": 65,
   "id": "dd02206e",
   "metadata": {},
   "outputs": [],
   "source": [
    "# 데이터 증강 및 전처리 (Train 데이터에는 증강 적용, Valid/Test에는 적용 X)\n",
    "train_datagen = ImageDataGenerator(\n",
    "    rescale=1./255,\n",
    "    rotation_range=30,\n",
    "    width_shift_range=0.2,\n",
    "    height_shift_range=0.2,\n",
    "    shear_range=0.2,\n",
    "    zoom_range=0.2,\n",
    "    horizontal_flip=True\n",
    ")\n",
    "valid_test_datagen = ImageDataGenerator(rescale=1./255)"
   ]
  },
  {
   "cell_type": "code",
   "execution_count": 66,
   "id": "7d0f8e87",
   "metadata": {},
   "outputs": [
    {
     "name": "stdout",
     "output_type": "stream",
     "text": [
      "Found 846 images belonging to 6 classes.\n",
      "Found 39 images belonging to 6 classes.\n",
      "Found 40 images belonging to 6 classes.\n"
     ]
    }
   ],
   "source": [
    "# 데이터 로드\n",
    "train_generator = train_datagen.flow_from_directory(\n",
    "    train_dir,\n",
    "    target_size=IMG_SIZE,\n",
    "    batch_size=BATCH_SIZE,\n",
    "    class_mode='categorical'\n",
    ")\n",
    "valid_generator = valid_test_datagen.flow_from_directory(\n",
    "    valid_dir,\n",
    "    target_size=IMG_SIZE,\n",
    "    batch_size=BATCH_SIZE,\n",
    "    class_mode='categorical'\n",
    ")\n",
    "test_generator = valid_test_datagen.flow_from_directory(\n",
    "    test_dir,\n",
    "    target_size=IMG_SIZE,\n",
    "    batch_size=BATCH_SIZE,\n",
    "    class_mode='categorical',\n",
    "    shuffle=False\n",
    ")"
   ]
  },
  {
   "cell_type": "code",
   "execution_count": 67,
   "id": "d65696b5",
   "metadata": {},
   "outputs": [],
   "source": [
    "# VGG16 모델 불러오기 (사전 학습된 가중치 사용, 최상위 분류층 제거)\n",
    "vgg16_base = VGG16(weights='imagenet', include_top=False, input_shape=(224, 224, 3))\n",
    "\n",
    "# 기존 VGG16 모델의 가중치를 고정\n",
    "for layer in vgg16_base.layers:\n",
    "    layer.trainable = False\n",
    "\n",
    "# 새로운 출력층 추가\n",
    "x = Flatten()(vgg16_base.output)\n",
    "x = Dense(512, activation='relu')(x)\n",
    "x = Dropout(0.5)(x)\n",
    "x = Dense(6, activation='softmax')(x)  # 해파리 종류 6개 클래스"
   ]
  },
  {
   "cell_type": "code",
   "execution_count": 68,
   "id": "3d6703fb",
   "metadata": {},
   "outputs": [
    {
     "name": "stdout",
     "output_type": "stream",
     "text": [
      "Epoch 1/20\n",
      "27/27 [==============================] - 11s 373ms/step - loss: 1.7292 - accuracy: 0.3038 - val_loss: 1.4410 - val_accuracy: 0.4615\n",
      "Epoch 2/20\n",
      "27/27 [==============================] - 10s 375ms/step - loss: 1.1535 - accuracy: 0.5745 - val_loss: 1.2257 - val_accuracy: 0.5897\n",
      "Epoch 3/20\n",
      "27/27 [==============================] - 10s 377ms/step - loss: 0.9863 - accuracy: 0.6454 - val_loss: 1.1681 - val_accuracy: 0.5897\n",
      "Epoch 4/20\n",
      "27/27 [==============================] - 10s 366ms/step - loss: 0.8392 - accuracy: 0.7163 - val_loss: 1.1466 - val_accuracy: 0.5897\n",
      "Epoch 5/20\n",
      "27/27 [==============================] - 10s 359ms/step - loss: 0.7991 - accuracy: 0.7021 - val_loss: 1.2808 - val_accuracy: 0.6154\n",
      "Epoch 6/20\n",
      "27/27 [==============================] - 10s 368ms/step - loss: 0.6960 - accuracy: 0.7459 - val_loss: 1.2472 - val_accuracy: 0.6154\n",
      "Epoch 7/20\n",
      "27/27 [==============================] - 10s 366ms/step - loss: 0.6520 - accuracy: 0.7624 - val_loss: 1.2787 - val_accuracy: 0.6154\n",
      "Epoch 8/20\n",
      "27/27 [==============================] - 10s 368ms/step - loss: 0.6157 - accuracy: 0.7861 - val_loss: 1.1816 - val_accuracy: 0.5385\n",
      "Epoch 9/20\n",
      "27/27 [==============================] - 10s 370ms/step - loss: 0.5566 - accuracy: 0.8156 - val_loss: 1.1167 - val_accuracy: 0.6410\n",
      "Epoch 10/20\n",
      "27/27 [==============================] - 10s 363ms/step - loss: 0.5172 - accuracy: 0.8440 - val_loss: 1.2171 - val_accuracy: 0.6667\n",
      "Epoch 11/20\n",
      "27/27 [==============================] - 10s 369ms/step - loss: 0.4977 - accuracy: 0.8322 - val_loss: 1.1705 - val_accuracy: 0.6410\n",
      "Epoch 12/20\n",
      "27/27 [==============================] - 10s 365ms/step - loss: 0.4195 - accuracy: 0.8582 - val_loss: 1.2449 - val_accuracy: 0.6667\n",
      "Epoch 13/20\n",
      "27/27 [==============================] - 10s 366ms/step - loss: 0.4341 - accuracy: 0.8629 - val_loss: 1.1831 - val_accuracy: 0.6154\n",
      "Epoch 14/20\n",
      "27/27 [==============================] - 10s 376ms/step - loss: 0.4739 - accuracy: 0.8298 - val_loss: 1.1943 - val_accuracy: 0.5641\n",
      "Epoch 15/20\n",
      "27/27 [==============================] - 10s 366ms/step - loss: 0.3845 - accuracy: 0.8889 - val_loss: 1.2974 - val_accuracy: 0.6154\n",
      "Epoch 16/20\n",
      "27/27 [==============================] - 10s 363ms/step - loss: 0.3917 - accuracy: 0.8593 - val_loss: 1.2142 - val_accuracy: 0.6154\n",
      "Epoch 17/20\n",
      "27/27 [==============================] - 10s 367ms/step - loss: 0.3829 - accuracy: 0.8652 - val_loss: 1.2705 - val_accuracy: 0.5897\n",
      "Epoch 18/20\n",
      "27/27 [==============================] - 10s 368ms/step - loss: 0.3644 - accuracy: 0.8664 - val_loss: 1.2536 - val_accuracy: 0.6410\n",
      "Epoch 19/20\n",
      "27/27 [==============================] - 10s 368ms/step - loss: 0.3393 - accuracy: 0.8842 - val_loss: 1.2186 - val_accuracy: 0.6923\n",
      "Epoch 20/20\n",
      "27/27 [==============================] - 10s 384ms/step - loss: 0.3300 - accuracy: 0.8960 - val_loss: 1.2846 - val_accuracy: 0.6410\n"
     ]
    }
   ],
   "source": [
    "# 모델 정의\n",
    "model = Model(inputs=vgg16_base.input, outputs=x)\n",
    "\n",
    "# 모델 컴파일\n",
    "model.compile(\n",
    "    loss='categorical_crossentropy',\n",
    "    optimizer=tf.keras.optimizers.Adam(learning_rate=0.0001),\n",
    "    metrics=['accuracy']\n",
    ")\n",
    "\n",
    "# 모델 학습\n",
    "history = model.fit(\n",
    "    train_generator,\n",
    "    epochs=EPOCHS,\n",
    "    validation_data=valid_generator\n",
    ")"
   ]
  },
  {
   "cell_type": "code",
   "execution_count": 69,
   "id": "bb671f7c",
   "metadata": {},
   "outputs": [
    {
     "name": "stdout",
     "output_type": "stream",
     "text": [
      "2/2 [==============================] - 0s 58ms/step - loss: 0.5144 - accuracy: 0.8750\n",
      "Test Accuracy: 87.50%\n"
     ]
    }
   ],
   "source": [
    "# 모델 평가\n",
    "loss, acc = model.evaluate(test_generator)\n",
    "print(f\"Test Accuracy: {acc * 100:.2f}%\")\n",
    "\n",
    "# 모델 저장\n",
    "model.save(\"vgg16_jellyfish_classifier.h5\")"
   ]
  },
  {
   "cell_type": "code",
   "execution_count": 70,
   "id": "779d99b0",
   "metadata": {},
   "outputs": [
    {
     "data": {
      "image/png": "[encoded data removed]",
      "text/plain": [
       "<Figure size 864x360 with 2 Axes>"
      ]
     },
     "metadata": {
      "needs_background": "light"
     },
     "output_type": "display_data"
    }
   ],
   "source": [
    "# 학습 결과 시각화\n",
    "plt.figure(figsize=(12, 5))\n",
    "plt.subplot(1, 2, 1)\n",
    "plt.plot(history.history['accuracy'], label='Train Accuracy')\n",
    "plt.plot(history.history['val_accuracy'], label='Validation Accuracy')\n",
    "plt.xlabel('Epochs')\n",
    "plt.ylabel('Accuracy')\n",
    "plt.legend()\n",
    "plt.title('Accuracy over Epochs')\n",
    "\n",
    "plt.subplot(1, 2, 2)\n",
    "plt.plot(history.history['loss'], label='Train Loss')\n",
    "plt.plot(history.history['val_loss'], label='Validation Loss')\n",
    "plt.xlabel('Epochs')\n",
    "plt.ylabel('Loss')\n",
    "plt.legend()\n",
    "plt.title('Loss over Epochs')\n",
    "\n",
    "plt.show()"
   ]
  },
  {
   "cell_type": "markdown",
   "id": "fd331760",
   "metadata": {},
   "source": [
    "## 모델 성능 조정 1\n",
    "- VGG16의 일부 레이어 미세 조정 (Fine-tuning) → 마지막 4개 레이어 학습 가능하게 변경\n",
    "- 데이터 증강 개선 → 밝기 조정, 색상 채널 이동 추가\n",
    "- Optimizer 변경 (SGD + Momentum + Learning Rate Scheduling) → 학습 안정화 및 일반화 성능 향상\n",
    "- EarlyStopping 추가 → Validation Loss가 개선되지 않으면 자동 종료하여 과적합 방지\n",
    "- Batch Normalization 추가 → 모델 학습 안정화 및 수렴 속도 향상"
   ]
  },
  {
   "cell_type": "markdown",
   "id": "ec8b78cb",
   "metadata": {},
   "source": [
    "## 모델 성능 조정 2\n",
    "- 학습률(Learning Rate) 감소 → 0.01 → 1e-5로 변경하여 학습 안정화\n",
    "- Fine-Tuning 범위 축소 → 마지막 5개 레이어만 학습 가능하도록 변경\n",
    "- 데이터 증강 축소 → 과도한 brightness_range, channel_shift_range 제거\n",
    "- Batch Size 감소 → 32 → 16으로 변경하여 Gradient Update 안정화\n",
    "- EarlyStopping 개선 → patience=7 → 10으로 변경하여 학습 종료를 늦춤"
   ]
  },
  {
   "cell_type": "markdown",
   "id": "77cab0ad",
   "metadata": {},
   "source": [
    "## 모델 성능 조정 3\n",
    "- Learning Rate 조정 → min_lr=1e-5로 설정하여 학습률이 지나치게 작아지는 것 방지\n",
    "- Fine-Tuning 범위 확장 → VGG16의 마지막 5개 레이어 학습 가능하도록 변경\n",
    "- 데이터 증강 강화 → 밝기 조정(brightness_range), 색상 채널 이동(channel_shift_range) 추가\n",
    "- Dropout 강화 → Dense Layer 추가 (512 → 256 레이어 추가) & Dropout 2회 적용\n",
    "- Epochs 증가 및 EarlyStopping 개선 → patience=15으로 증가하여 충분한 학습 보장"
   ]
  },
  {
   "cell_type": "markdown",
   "id": "bccd6c50",
   "metadata": {},
   "source": [
    "# EfficientNet"
   ]
  },
  {
   "cell_type": "code",
   "execution_count": 6,
   "id": "b5c2ec07",
   "metadata": {
    "scrolled": false
   },
   "outputs": [
    {
     "name": "stdout",
     "output_type": "stream",
     "text": [
      "Downloading data from https://github.com/Callidior/keras-applications/releases/download/efficientnet/efficientnet-b0_weights_tf_dim_ordering_tf_kernels_autoaugment_notop.h5\n",
      "16809984/16804768 [==============================] - 0s 0us/step\n",
      "16818176/16804768 [==============================] - 0s 0us/step\n",
      "Found 846 images belonging to 6 classes.\n",
      "Found 39 images belonging to 6 classes.\n",
      "Epoch 1/30\n",
      "27/27 [==============================] - 22s 466ms/step - loss: 1.8552 - accuracy: 0.1596 - val_loss: 1.8053 - val_accuracy: 0.2308\n",
      "Epoch 2/30\n",
      "27/27 [==============================] - 10s 374ms/step - loss: 1.7664 - accuracy: 0.2009 - val_loss: 1.7553 - val_accuracy: 0.3077\n",
      "Epoch 3/30\n",
      "27/27 [==============================] - 10s 370ms/step - loss: 1.6905 - accuracy: 0.2730 - val_loss: 1.7118 - val_accuracy: 0.3333\n",
      "Epoch 4/30\n",
      "27/27 [==============================] - 10s 368ms/step - loss: 1.6334 - accuracy: 0.3357 - val_loss: 1.6697 - val_accuracy: 0.3590\n",
      "Epoch 5/30\n",
      "27/27 [==============================] - 10s 365ms/step - loss: 1.5838 - accuracy: 0.3842 - val_loss: 1.6136 - val_accuracy: 0.4615\n",
      "Epoch 6/30\n",
      "27/27 [==============================] - 10s 376ms/step - loss: 1.5117 - accuracy: 0.4704 - val_loss: 1.5534 - val_accuracy: 0.4872\n",
      "Epoch 7/30\n",
      "27/27 [==============================] - 10s 377ms/step - loss: 1.4378 - accuracy: 0.5225 - val_loss: 1.4963 - val_accuracy: 0.4359\n",
      "Epoch 8/30\n",
      "27/27 [==============================] - 10s 377ms/step - loss: 1.3849 - accuracy: 0.5567 - val_loss: 1.4497 - val_accuracy: 0.5128\n",
      "Epoch 9/30\n",
      "27/27 [==============================] - 10s 372ms/step - loss: 1.3150 - accuracy: 0.6383 - val_loss: 1.3928 - val_accuracy: 0.5641\n",
      "Epoch 10/30\n",
      "27/27 [==============================] - 10s 372ms/step - loss: 1.2496 - accuracy: 0.6608 - val_loss: 1.3330 - val_accuracy: 0.6667\n",
      "Epoch 11/30\n",
      "27/27 [==============================] - 10s 376ms/step - loss: 1.1869 - accuracy: 0.6820 - val_loss: 1.2752 - val_accuracy: 0.7179\n",
      "Epoch 12/30\n",
      "27/27 [==============================] - 11s 382ms/step - loss: 1.1029 - accuracy: 0.7222 - val_loss: 1.2162 - val_accuracy: 0.7179\n",
      "Epoch 13/30\n",
      "27/27 [==============================] - 10s 370ms/step - loss: 1.0724 - accuracy: 0.7033 - val_loss: 1.1622 - val_accuracy: 0.7179\n",
      "Epoch 14/30\n",
      "27/27 [==============================] - 10s 370ms/step - loss: 0.9750 - accuracy: 0.7683 - val_loss: 1.1179 - val_accuracy: 0.7436\n",
      "Epoch 15/30\n",
      "27/27 [==============================] - 10s 374ms/step - loss: 0.9305 - accuracy: 0.7849 - val_loss: 1.0755 - val_accuracy: 0.7692\n",
      "Epoch 16/30\n",
      "27/27 [==============================] - 10s 372ms/step - loss: 0.8988 - accuracy: 0.7861 - val_loss: 1.0387 - val_accuracy: 0.7692\n",
      "Epoch 17/30\n",
      "27/27 [==============================] - 10s 371ms/step - loss: 0.8204 - accuracy: 0.8050 - val_loss: 1.0077 - val_accuracy: 0.7692\n",
      "Epoch 18/30\n",
      "27/27 [==============================] - 10s 373ms/step - loss: 0.7735 - accuracy: 0.8203 - val_loss: 0.9802 - val_accuracy: 0.7949\n",
      "Epoch 19/30\n",
      "27/27 [==============================] - 10s 371ms/step - loss: 0.7098 - accuracy: 0.8605 - val_loss: 0.9535 - val_accuracy: 0.7949\n",
      "Epoch 20/30\n",
      "27/27 [==============================] - 10s 374ms/step - loss: 0.6624 - accuracy: 0.8652 - val_loss: 0.9270 - val_accuracy: 0.7949\n",
      "Epoch 21/30\n",
      "27/27 [==============================] - 10s 378ms/step - loss: 0.6313 - accuracy: 0.8487 - val_loss: 0.9060 - val_accuracy: 0.8205\n",
      "Epoch 22/30\n",
      "27/27 [==============================] - 10s 367ms/step - loss: 0.6100 - accuracy: 0.8546 - val_loss: 0.8856 - val_accuracy: 0.8205\n",
      "Epoch 23/30\n",
      "27/27 [==============================] - 10s 373ms/step - loss: 0.5784 - accuracy: 0.8735 - val_loss: 0.8642 - val_accuracy: 0.8205\n",
      "Epoch 24/30\n",
      "27/27 [==============================] - 10s 373ms/step - loss: 0.5338 - accuracy: 0.8747 - val_loss: 0.8447 - val_accuracy: 0.8205\n",
      "Epoch 25/30\n",
      "27/27 [==============================] - 10s 367ms/step - loss: 0.4844 - accuracy: 0.8913 - val_loss: 0.8324 - val_accuracy: 0.8205\n",
      "Epoch 26/30\n",
      "27/27 [==============================] - 10s 375ms/step - loss: 0.4920 - accuracy: 0.8759 - val_loss: 0.8199 - val_accuracy: 0.8205\n",
      "Epoch 27/30\n",
      "27/27 [==============================] - 10s 369ms/step - loss: 0.4543 - accuracy: 0.8877 - val_loss: 0.8082 - val_accuracy: 0.8205\n",
      "Epoch 28/30\n",
      "27/27 [==============================] - 10s 372ms/step - loss: 0.4515 - accuracy: 0.8924 - val_loss: 0.7979 - val_accuracy: 0.7949\n",
      "Epoch 29/30\n",
      "27/27 [==============================] - 10s 374ms/step - loss: 0.4108 - accuracy: 0.9031 - val_loss: 0.7878 - val_accuracy: 0.8205\n",
      "Epoch 30/30\n",
      "27/27 [==============================] - 10s 374ms/step - loss: 0.3820 - accuracy: 0.9090 - val_loss: 0.7791 - val_accuracy: 0.8205\n",
      "Found 40 images belonging to 6 classes.\n",
      "2/2 [==============================] - 1s 414ms/step - loss: 0.4025 - accuracy: 0.8750\n",
      "Test Loss: 0.4025\n",
      "Test Accuracy: 0.8750\n"
     ]
    },
    {
     "name": "stderr",
     "output_type": "stream",
     "text": [
      "/opt/conda/lib/python3.9/site-packages/keras/utils/generic_utils.py:494: CustomMaskWarning: Custom mask layers require a config and must override get_config. When loading, the custom mask layer must be passed to the custom_objects argument.\n",
      "  warnings.warn('Custom mask layers require a config and must override '\n"
     ]
    },
    {
     "data": {
      "image/png": "[encoded data removed]",
      "text/plain": [
       "<Figure size 864x360 with 2 Axes>"
      ]
     },
     "metadata": {
      "needs_background": "light"
     },
     "output_type": "display_data"
    }
   ],
   "source": [
    "from efficientnet.tfkeras import EfficientNetB0\n",
    "from tensorflow.keras.models import Model\n",
    "from tensorflow.keras.layers import Dense, GlobalAveragePooling2D, Dropout\n",
    "from tensorflow.keras.preprocessing.image import ImageDataGenerator\n",
    "from tensorflow.keras.callbacks import EarlyStopping\n",
    "\n",
    "# 데이터 경로 설정\n",
    "base_dir = \"./Train_Test_Valid_preprocessed\"\n",
    "train_dir = os.path.join(base_dir, \"Train_Cleaned\")\n",
    "valid_dir = os.path.join(base_dir, \"valid\")\n",
    "test_dir = os.path.join(base_dir, \"test\")\n",
    "\n",
    "# 🔹 EfficientNetB0 모델 불러오기 (사전 학습된 가중치 사용)\n",
    "base_model = EfficientNetB0(weights='imagenet', include_top=False, input_shape=(224, 224, 3))\n",
    "\n",
    "# 🔹 새 Fully Connected Layer 추가\n",
    "x = GlobalAveragePooling2D()(base_model.output)  # GAP 레이어\n",
    "x = Dense(256, activation='relu')(x)\n",
    "x = Dropout(0.3)(x)  # 과적합 방지\n",
    "x = Dense(6, activation='softmax')(x)  # 예: 해파리 6종 분류\n",
    "\n",
    "# 🔹 새로운 모델 생성\n",
    "model = Model(inputs=base_model.input, outputs=x)\n",
    "\n",
    "# 🔹 EfficientNetB0 일부 레이어만 학습 가능하도록 설정\n",
    "for layer in base_model.layers[:-50]:  # 마지막 50개 레이어만 학습\n",
    "    layer.trainable = True\n",
    "    \n",
    "# 🔹 모델 컴파일 (학습률 조정)\n",
    "model.compile(optimizer=tf.keras.optimizers.Adam(learning_rate=1e-5),\n",
    "              loss='categorical_crossentropy', metrics=['accuracy'])\n",
    "\n",
    "# 데이터 증강 및 전처리 (Train 데이터에는 증강 적용, Valid/Test에는 적용 X)\n",
    "train_datagen = ImageDataGenerator(\n",
    "    rescale=1./255,\n",
    "    rotation_range=30,\n",
    "    width_shift_range=0.2,\n",
    "    height_shift_range=0.2,\n",
    "    shear_range=0.2,\n",
    "    zoom_range=0.2,\n",
    "    horizontal_flip=True,\n",
    "    vertical_flip=True\n",
    ")\n",
    "\n",
    "valid_test_datagen = ImageDataGenerator(rescale=1./255)\n",
    "\n",
    "train_generator = train_datagen.flow_from_directory(\n",
    "    train_dir, target_size=(224, 224), batch_size=32, class_mode='categorical')\n",
    "val_generator = valid_test_datagen.flow_from_directory(\n",
    "    valid_dir, target_size=(224, 224), batch_size=32, class_mode='categorical')\n",
    "\n",
    "# 🔹 모델 학습\n",
    "history = model.fit(train_generator, validation_data=val_generator, epochs=30, callbacks=[early_stopping])\n",
    "\n",
    "test_generator = valid_test_datagen.flow_from_directory(\n",
    "    test_dir, target_size=(224, 224), batch_size=32, class_mode='categorical')\n",
    "\n",
    "# 모델 평가\n",
    "loss, acc = model.evaluate(test_generator)\n",
    "print(f\"Test Loss: {loss:.4f}\")\n",
    "print(f\"Test Accuracy: {acc:.4f}\")\n",
    "\n",
    "# 모델 저장\n",
    "model.save(\"efficientnetb0_jellyfish.h5\")\n",
    "\n",
    "import matplotlib.pyplot as plt\n",
    "\n",
    "# 학습 결과 시각화\n",
    "plt.figure(figsize=(12, 5))\n",
    "plt.subplot(1, 2, 1)\n",
    "plt.plot(history.history['accuracy'], label='Train Accuracy')\n",
    "plt.plot(history.history['val_accuracy'], label='Validation Accuracy')\n",
    "plt.xlabel('Epochs')\n",
    "plt.ylabel('Accuracy')\n",
    "plt.legend()\n",
    "plt.title('Accuracy over Epochs')\n",
    "\n",
    "plt.subplot(1, 2, 2)\n",
    "plt.plot(history.history['loss'], label='Train Loss')\n",
    "plt.plot(history.history['val_loss'], label='Validation Loss')\n",
    "plt.xlabel('Epochs')\n",
    "plt.ylabel('Loss')\n",
    "plt.legend()\n",
    "plt.title('Loss over Epochs')\n",
    "\n",
    "plt.show()"
   ]
  },
  {
   "cell_type": "code",
   "execution_count": null,
   "id": "5443b7c0",
   "metadata": {},
   "outputs": [],
   "source": []
  }
 ],
 "metadata": {
  "kernelspec": {
   "display_name": "Python 3 (ipykernel)",
   "language": "python",
   "name": "python3"
  },
  "language_info": {
   "codemirror_mode": {
    "name": "ipython",
    "version": 3
   },
   "file_extension": ".py",
   "mimetype": "text/x-python",
   "name": "python",
   "nbconvert_exporter": "python",
   "pygments_lexer": "ipython3",
   "version": "3.9.7"
  }
 },
 "nbformat": 4,
 "nbformat_minor": 5
}
