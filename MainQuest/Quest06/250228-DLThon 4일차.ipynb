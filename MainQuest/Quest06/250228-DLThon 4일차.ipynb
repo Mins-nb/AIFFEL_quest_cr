{
 "cells": [
  {
   "cell_type": "markdown",
   "id": "2d9e96c3",
   "metadata": {},
   "source": [
    "# [DLthon] 오늘의 계획\n",
    "- 모델 최적화 (W&B 활용)\n",
    "- Data별 결과 분석\n",
    "- 발표 내용 구성"
   ]
  },
  {
   "cell_type": "markdown",
   "id": "a97f49a8",
   "metadata": {},
   "source": [
    "# 선정 모델: EfficientNetB0"
   ]
  },
  {
   "cell_type": "code",
   "execution_count": 1,
   "id": "59619076",
   "metadata": {},
   "outputs": [
    {
     "name": "stdout",
     "output_type": "stream",
     "text": [
      "Requirement already satisfied: wandb==0.16.0 in /opt/conda/lib/python3.9/site-packages (0.16.0)\n",
      "Requirement already satisfied: setuptools in /opt/conda/lib/python3.9/site-packages (from wandb==0.16.0) (59.4.0)\n",
      "Requirement already satisfied: docker-pycreds>=0.4.0 in /opt/conda/lib/python3.9/site-packages (from wandb==0.16.0) (0.4.0)\n",
      "Requirement already satisfied: psutil>=5.0.0 in /opt/conda/lib/python3.9/site-packages (from wandb==0.16.0) (5.8.0)\n",
      "Requirement already satisfied: typing-extensions in /opt/conda/lib/python3.9/site-packages (from wandb==0.16.0) (4.12.2)\n",
      "Requirement already satisfied: appdirs>=1.4.3 in /opt/conda/lib/python3.9/site-packages (from wandb==0.16.0) (1.4.4)\n",
      "Requirement already satisfied: setproctitle in /opt/conda/lib/python3.9/site-packages (from wandb==0.16.0) (1.3.5)\n",
      "Requirement already satisfied: Click!=8.0.0,>=7.1 in /opt/conda/lib/python3.9/site-packages (from wandb==0.16.0) (8.0.3)\n",
      "Requirement already satisfied: requests<3,>=2.0.0 in /opt/conda/lib/python3.9/site-packages (from wandb==0.16.0) (2.26.0)\n",
      "Requirement already satisfied: PyYAML in /opt/conda/lib/python3.9/site-packages (from wandb==0.16.0) (6.0)\n",
      "Requirement already satisfied: GitPython!=3.1.29,>=1.0.0 in /opt/conda/lib/python3.9/site-packages (from wandb==0.16.0) (3.1.44)\n",
      "Requirement already satisfied: protobuf!=4.21.0,<5,>=3.15.0 in /opt/conda/lib/python3.9/site-packages (from wandb==0.16.0) (3.19.1)\n",
      "Requirement already satisfied: sentry-sdk>=1.0.0 in /opt/conda/lib/python3.9/site-packages (from wandb==0.16.0) (2.22.0)\n",
      "Requirement already satisfied: six>=1.4.0 in /opt/conda/lib/python3.9/site-packages (from docker-pycreds>=0.4.0->wandb==0.16.0) (1.16.0)\n",
      "Requirement already satisfied: gitdb<5,>=4.0.1 in /opt/conda/lib/python3.9/site-packages (from GitPython!=3.1.29,>=1.0.0->wandb==0.16.0) (4.0.12)\n",
      "Requirement already satisfied: charset-normalizer~=2.0.0 in /opt/conda/lib/python3.9/site-packages (from requests<3,>=2.0.0->wandb==0.16.0) (2.0.8)\n",
      "Requirement already satisfied: idna<4,>=2.5 in /opt/conda/lib/python3.9/site-packages (from requests<3,>=2.0.0->wandb==0.16.0) (2.10)\n",
      "Requirement already satisfied: urllib3<1.27,>=1.21.1 in /opt/conda/lib/python3.9/site-packages (from requests<3,>=2.0.0->wandb==0.16.0) (1.26.20)\n",
      "Requirement already satisfied: certifi>=2017.4.17 in /opt/conda/lib/python3.9/site-packages (from requests<3,>=2.0.0->wandb==0.16.0) (2021.10.8)\n",
      "Requirement already satisfied: smmap<6,>=3.0.1 in /opt/conda/lib/python3.9/site-packages (from gitdb<5,>=4.0.1->GitPython!=3.1.29,>=1.0.0->wandb==0.16.0) (5.0.2)\n",
      "\u001b[33mWARNING: Running pip as the 'root' user can result in broken permissions and conflicting behaviour with the system package manager. It is recommended to use a virtual environment instead: https://pip.pypa.io/warnings/venv\u001b[0m\n"
     ]
    }
   ],
   "source": [
    "!pip install wandb==0.16.0"
   ]
  },
  {
   "cell_type": "code",
   "execution_count": 2,
   "id": "1a0eb129",
   "metadata": {},
   "outputs": [],
   "source": [
    "import tensorflow as tf\n",
    "import matplotlib.pyplot as plt\n",
    "from tensorflow.keras.preprocessing.image import ImageDataGenerator\n",
    "from efficientnet.tfkeras import EfficientNetB0\n",
    "from tensorflow.keras.models import Model\n",
    "from tensorflow.keras.layers import Dense, Flatten, GlobalAveragePooling2D, Dropout, BatchNormalization\n",
    "from tensorflow.keras.optimizers import Adam\n",
    "from tensorflow.keras.callbacks import ReduceLROnPlateau, EarlyStopping\n",
    "import os\n",
    "\n",
    "# W&B 설정\n",
    "import wandb\n",
    "from wandb.keras import WandbMetricsLogger\n",
    "from wandb.integration.keras import WandbCallback"
   ]
  },
  {
   "cell_type": "code",
   "execution_count": 3,
   "id": "52dce2f9",
   "metadata": {},
   "outputs": [
    {
     "name": "stderr",
     "output_type": "stream",
     "text": [
      "\u001b[34m\u001b[1mwandb\u001b[0m: Currently logged in as: \u001b[33maiffel-es\u001b[0m (\u001b[33maiffel-es-none\u001b[0m). Use \u001b[1m`wandb login --relogin`\u001b[0m to force relogin\n",
      "\u001b[34m\u001b[1mwandb\u001b[0m: \u001b[33mWARNING\u001b[0m If you're specifying your api key in code, ensure this code is not shared publicly.\n",
      "\u001b[34m\u001b[1mwandb\u001b[0m: \u001b[33mWARNING\u001b[0m Consider setting the WANDB_API_KEY environment variable, or running `wandb login` from the command line.\n",
      "\u001b[34m\u001b[1mwandb\u001b[0m: Appending key for api.wandb.ai to your netrc file: /aiffel/.netrc\n"
     ]
    },
    {
     "data": {
      "text/plain": [
       "True"
      ]
     },
     "execution_count": 3,
     "metadata": {},
     "output_type": "execute_result"
    }
   ],
   "source": [
    "# 키 파일 경로\n",
    "key_file_path = \"./wandb/wandb_key.txt\"\n",
    "\n",
    "# 파일에서 W&B 키 불러오기\n",
    "with open(key_file_path, \"r\") as f:\n",
    "    YOUR_WANDB_KEY = f.read().strip()  # 공백 제거\n",
    "\n",
    "# W&B 로그인\n",
    "wandb.login(key=YOUR_WANDB_KEY)"
   ]
  },
  {
   "cell_type": "markdown",
   "id": "f9ea0ce0",
   "metadata": {},
   "source": [
    "# 최적의 하이퍼파라미터 찾기"
   ]
  },
  {
   "cell_type": "markdown",
   "id": "1dd3adc7",
   "metadata": {},
   "source": [
    "### test 1"
   ]
  },
  {
   "cell_type": "code",
   "execution_count": 4,
   "id": "23b80ec5",
   "metadata": {},
   "outputs": [],
   "source": [
    "# 데이터 경로 설정\n",
    "base_dir = \"./Train_Test_Valid_preprocessed\"\n",
    "train_dir = os.path.join(base_dir, \"Train_Cleaned\")\n",
    "valid_dir = os.path.join(base_dir, \"valid\")\n",
    "test_dir = os.path.join(base_dir, \"test\")"
   ]
  },
  {
   "cell_type": "code",
   "execution_count": 5,
   "id": "e6d83208",
   "metadata": {},
   "outputs": [],
   "source": [
    "# W&B Sweep 설정 (하이퍼파라미터 검색)\n",
    "sweep_config = {\n",
    "    \"method\": \"grid\",  # 모든 조합을 시도하려면 \"grid\", 무작위 탐색은 \"random\"\n",
    "    \"metric\": {\"name\": \"val_accuracy\", \"goal\": \"maximize\"},\n",
    "    \"parameters\": {\n",
    "        \"learning_rate\": {\"values\": [0.0001]},\n",
    "        \"batch_size\": {\"values\": [16]}, \n",
    "        \"dropout_rate\": {\"values\": [0.2]}, \n",
    "        \"epochs\": {\"values\": [10]} \n",
    "    },\n",
    "}"
   ]
  },
  {
   "cell_type": "code",
   "execution_count": 6,
   "id": "3878ff02",
   "metadata": {
    "scrolled": true
   },
   "outputs": [
    {
     "name": "stdout",
     "output_type": "stream",
     "text": [
      "Create sweep with ID: qa1sgyow\n",
      "Sweep URL: https://wandb.ai/aiffel-es-none/jellyfish_classification/sweeps/qa1sgyow\n"
     ]
    }
   ],
   "source": [
    "# Sweep 생성\n",
    "sweep_id = wandb.sweep(sweep_config, project=\"jellyfish_classification\")"
   ]
  },
  {
   "cell_type": "code",
   "execution_count": 7,
   "id": "8d6fca6f",
   "metadata": {
    "scrolled": true
   },
   "outputs": [
    {
     "name": "stderr",
     "output_type": "stream",
     "text": [
      "\u001b[34m\u001b[1mwandb\u001b[0m: Agent Starting Run: a6vh5q9n with config:\n",
      "\u001b[34m\u001b[1mwandb\u001b[0m: \tbatch_size: 16\n",
      "\u001b[34m\u001b[1mwandb\u001b[0m: \tdropout_rate: 0.2\n",
      "\u001b[34m\u001b[1mwandb\u001b[0m: \tepochs: 10\n",
      "\u001b[34m\u001b[1mwandb\u001b[0m: \tlearning_rate: 0.0001\n"
     ]
    },
    {
     "data": {
      "text/html": [
       "wandb version 0.19.7 is available!  To upgrade, please run:\n",
       " $ pip install wandb --upgrade"
      ],
      "text/plain": [
       "<IPython.core.display.HTML object>"
      ]
     },
     "metadata": {},
     "output_type": "display_data"
    },
    {
     "data": {
      "text/html": [
       "Tracking run with wandb version 0.16.0"
      ],
      "text/plain": [
       "<IPython.core.display.HTML object>"
      ]
     },
     "metadata": {},
     "output_type": "display_data"
    },
    {
     "data": {
      "text/html": [
       "Run data is saved locally in <code>/aiffel/aiffel/jellyfish/wandb/run-20250228_052237-a6vh5q9n</code>"
      ],
      "text/plain": [
       "<IPython.core.display.HTML object>"
      ]
     },
     "metadata": {},
     "output_type": "display_data"
    },
    {
     "data": {
      "text/html": [
       "Syncing run <strong><a href='https://wandb.ai/aiffel-es-none/jellyfish_classification/runs/a6vh5q9n' target=\"_blank\">icy-sweep-1</a></strong> to <a href='https://wandb.ai/aiffel-es-none/jellyfish_classification' target=\"_blank\">Weights & Biases</a> (<a href='https://wandb.me/run' target=\"_blank\">docs</a>)<br/>Sweep page: <a href='https://wandb.ai/aiffel-es-none/jellyfish_classification/sweeps/qa1sgyow' target=\"_blank\">https://wandb.ai/aiffel-es-none/jellyfish_classification/sweeps/qa1sgyow</a>"
      ],
      "text/plain": [
       "<IPython.core.display.HTML object>"
      ]
     },
     "metadata": {},
     "output_type": "display_data"
    },
    {
     "data": {
      "text/html": [
       " View project at <a href='https://wandb.ai/aiffel-es-none/jellyfish_classification' target=\"_blank\">https://wandb.ai/aiffel-es-none/jellyfish_classification</a>"
      ],
      "text/plain": [
       "<IPython.core.display.HTML object>"
      ]
     },
     "metadata": {},
     "output_type": "display_data"
    },
    {
     "data": {
      "text/html": [
       " View sweep at <a href='https://wandb.ai/aiffel-es-none/jellyfish_classification/sweeps/qa1sgyow' target=\"_blank\">https://wandb.ai/aiffel-es-none/jellyfish_classification/sweeps/qa1sgyow</a>"
      ],
      "text/plain": [
       "<IPython.core.display.HTML object>"
      ]
     },
     "metadata": {},
     "output_type": "display_data"
    },
    {
     "data": {
      "text/html": [
       " View run at <a href='https://wandb.ai/aiffel-es-none/jellyfish_classification/runs/a6vh5q9n' target=\"_blank\">https://wandb.ai/aiffel-es-none/jellyfish_classification/runs/a6vh5q9n</a>"
      ],
      "text/plain": [
       "<IPython.core.display.HTML object>"
      ]
     },
     "metadata": {},
     "output_type": "display_data"
    },
    {
     "name": "stdout",
     "output_type": "stream",
     "text": [
      "Found 846 images belonging to 6 classes.\n",
      "Found 99 images belonging to 6 classes.\n",
      "Epoch 1/10\n",
      "53/53 [==============================] - 25s 252ms/step - loss: 1.3750 - accuracy: 0.5343 - val_loss: 1.0547 - val_accuracy: 0.6566\n",
      "Epoch 2/10\n",
      "53/53 [==============================] - 11s 196ms/step - loss: 0.6369 - accuracy: 0.8251 - val_loss: 0.6999 - val_accuracy: 0.7475\n",
      "Epoch 3/10\n",
      "53/53 [==============================] - 10s 196ms/step - loss: 0.3136 - accuracy: 0.9184 - val_loss: 0.6573 - val_accuracy: 0.7778\n",
      "Epoch 4/10\n",
      "53/53 [==============================] - 11s 198ms/step - loss: 0.1889 - accuracy: 0.9456 - val_loss: 0.6711 - val_accuracy: 0.7677\n",
      "Epoch 5/10\n",
      "53/53 [==============================] - 11s 196ms/step - loss: 0.1176 - accuracy: 0.9657 - val_loss: 0.6045 - val_accuracy: 0.7879\n",
      "Epoch 6/10\n",
      "53/53 [==============================] - 10s 192ms/step - loss: 0.0960 - accuracy: 0.9799 - val_loss: 0.6084 - val_accuracy: 0.7980\n",
      "Epoch 7/10\n",
      "53/53 [==============================] - 10s 195ms/step - loss: 0.0887 - accuracy: 0.9764 - val_loss: 0.6265 - val_accuracy: 0.7879\n",
      "Epoch 8/10\n",
      "53/53 [==============================] - 10s 195ms/step - loss: 0.0753 - accuracy: 0.9752 - val_loss: 0.6768 - val_accuracy: 0.8081\n",
      "Epoch 9/10\n",
      "53/53 [==============================] - 10s 195ms/step - loss: 0.0476 - accuracy: 0.9846 - val_loss: 0.6835 - val_accuracy: 0.7778\n",
      "Epoch 10/10\n",
      "53/53 [==============================] - 10s 195ms/step - loss: 0.0393 - accuracy: 0.9882 - val_loss: 0.7113 - val_accuracy: 0.7879\n",
      "Found 40 images belonging to 6 classes.\n",
      "3/3 [==============================] - 1s 226ms/step - loss: 0.2768 - accuracy: 0.9250\n",
      "Test Loss: 0.2768\n",
      "Test Accuracy: 0.9250\n"
     ]
    },
    {
     "name": "stderr",
     "output_type": "stream",
     "text": [
      "/opt/conda/lib/python3.9/site-packages/keras/utils/generic_utils.py:494: CustomMaskWarning: Custom mask layers require a config and must override get_config. When loading, the custom mask layer must be passed to the custom_objects argument.\n",
      "  warnings.warn('Custom mask layers require a config and must override '\n"
     ]
    },
    {
     "data": {
      "image/png": "[encoded data removed]",
      "text/plain": [
       "<Figure size 864x360 with 2 Axes>"
      ]
     },
     "metadata": {
      "needs_background": "light"
     },
     "output_type": "display_data"
    },
    {
     "data": {
      "application/vnd.jupyter.widget-view+json": {
       "model_id": "",
       "version_major": 2,
       "version_minor": 0
      },
      "text/plain": [
       "VBox(children=(Label(value='0.001 MB of 0.010 MB uploaded\\r'), FloatProgress(value=0.13190383365821962, max=1.…"
      ]
     },
     "metadata": {},
     "output_type": "display_data"
    },
    {
     "data": {
      "text/html": [
       "<style>\n",
       "    table.wandb td:nth-child(1) { padding: 0 10px; text-align: left ; width: auto;} td:nth-child(2) {text-align: left ; width: 100%}\n",
       "    .wandb-row { display: flex; flex-direction: row; flex-wrap: wrap; justify-content: flex-start; width: 100% }\n",
       "    .wandb-col { display: flex; flex-direction: column; flex-basis: 100%; flex: 1; padding: 10px; }\n",
       "    </style>\n",
       "<div class=\"wandb-row\"><div class=\"wandb-col\"><h3>Run history:</h3><br/><table class=\"wandb\"><tr><td>accuracy</td><td>▁</td></tr><tr><td>epoch/accuracy</td><td>▁▅▇▇██████</td></tr><tr><td>epoch/epoch</td><td>▁▂▃▃▄▅▆▆▇█</td></tr><tr><td>epoch/learning_rate</td><td>███████▁▁▁</td></tr><tr><td>epoch/loss</td><td>█▄▂▂▁▁▁▁▁▁</td></tr><tr><td>epoch/lr</td><td>████████▁▁</td></tr><tr><td>epoch/val_accuracy</td><td>▁▅▇▆▇█▇█▇▇</td></tr><tr><td>epoch/val_loss</td><td>█▂▂▂▁▁▁▂▂▃</td></tr><tr><td>loss</td><td>▁</td></tr><tr><td>test_accuracy</td><td>▁</td></tr><tr><td>test_loss</td><td>▁</td></tr><tr><td>val_accuracy</td><td>▁</td></tr><tr><td>val_loss</td><td>▁</td></tr></table><br/></div><div class=\"wandb-col\"><h3>Run summary:</h3><br/><table class=\"wandb\"><tr><td>accuracy</td><td>0.98818</td></tr><tr><td>epoch/accuracy</td><td>0.98818</td></tr><tr><td>epoch/epoch</td><td>9</td></tr><tr><td>epoch/learning_rate</td><td>2e-05</td></tr><tr><td>epoch/loss</td><td>0.03928</td></tr><tr><td>epoch/lr</td><td>2e-05</td></tr><tr><td>epoch/val_accuracy</td><td>0.78788</td></tr><tr><td>epoch/val_loss</td><td>0.71133</td></tr><tr><td>loss</td><td>0.03928</td></tr><tr><td>test_accuracy</td><td>0.925</td></tr><tr><td>test_loss</td><td>0.27683</td></tr><tr><td>val_accuracy</td><td>0.78788</td></tr><tr><td>val_loss</td><td>0.71133</td></tr></table><br/></div></div>"
      ],
      "text/plain": [
       "<IPython.core.display.HTML object>"
      ]
     },
     "metadata": {},
     "output_type": "display_data"
    },
    {
     "data": {
      "text/html": [
       " View run <strong style=\"color:#cdcd00\">icy-sweep-1</strong> at: <a href='https://wandb.ai/aiffel-es-none/jellyfish_classification/runs/a6vh5q9n' target=\"_blank\">https://wandb.ai/aiffel-es-none/jellyfish_classification/runs/a6vh5q9n</a><br/>Synced 5 W&B file(s), 0 media file(s), 0 artifact file(s) and 0 other file(s)"
      ],
      "text/plain": [
       "<IPython.core.display.HTML object>"
      ]
     },
     "metadata": {},
     "output_type": "display_data"
    },
    {
     "data": {
      "text/html": [
       "Find logs at: <code>./wandb/run-20250228_052237-a6vh5q9n/logs</code>"
      ],
      "text/plain": [
       "<IPython.core.display.HTML object>"
      ]
     },
     "metadata": {},
     "output_type": "display_data"
    }
   ],
   "source": [
    "# Sweep을 위한 학습 함수\n",
    "def train_sweep():\n",
    "    with wandb.init():\n",
    "        config = wandb.config  # Sweep 하이퍼파라미터 가져오기\n",
    "        \n",
    "        # EfficientNetB0 모델 불러오기\n",
    "        base_model = EfficientNetB0(weights='imagenet', include_top=False, input_shape=(224, 224, 3))\n",
    "\n",
    "        # 새 Fully Connected Layer 추가\n",
    "        x = GlobalAveragePooling2D()(base_model.output)\n",
    "        x = Dense(512, activation='relu')(x)\n",
    "        x = Dropout(config.dropout_rate)(x)  # Sweep에서 dropout 값을 자동으로 변경\n",
    "        x = Dense(6, activation='softmax')(x)\n",
    "\n",
    "        # 새로운 모델 생성\n",
    "        model = Model(inputs=base_model.input, outputs=x)\n",
    "\n",
    "        # EfficientNetB0 일부 레이어만 학습 가능하도록 설정\n",
    "        for layer in base_model.layers[:-50]:  # 마지막 50개 레이어만 학습\n",
    "            layer.trainable = True\n",
    "\n",
    "        # 모델 컴파일\n",
    "        model.compile(optimizer=Adam(learning_rate=config.learning_rate),\n",
    "                      loss='categorical_crossentropy', metrics=['accuracy'])\n",
    "\n",
    "        # 데이터 증강 및 전처리\n",
    "        train_datagen = ImageDataGenerator(\n",
    "            rescale=1./255,\n",
    "            rotation_range=30,\n",
    "            width_shift_range=0.2,\n",
    "            height_shift_range=0.2,\n",
    "            shear_range=0.2,\n",
    "            zoom_range=0.2,\n",
    "            horizontal_flip=True,\n",
    "            vertical_flip=True\n",
    "        )\n",
    "        valid_test_datagen = ImageDataGenerator(rescale=1./255)\n",
    "\n",
    "        train_generator = train_datagen.flow_from_directory(\n",
    "            train_dir, target_size=(224, 224), batch_size=config.batch_size, class_mode='categorical')\n",
    "        val_generator = valid_test_datagen.flow_from_directory(\n",
    "            valid_dir, target_size=(224, 224), batch_size=config.batch_size, class_mode='categorical')\n",
    "\n",
    "        # 콜백 함수 설정\n",
    "        early_stopping = EarlyStopping(monitor='val_loss', patience=5, restore_best_weights=True)\n",
    "        reduce_lr = ReduceLROnPlateau(monitor='val_loss', factor=0.2, patience=3, min_lr=1e-7)\n",
    "\n",
    "        # 모델 학습\n",
    "        history = model.fit(\n",
    "            train_generator,\n",
    "            validation_data=val_generator,\n",
    "            epochs=config.epochs,\n",
    "            callbacks=[early_stopping, reduce_lr, WandbMetricsLogger()]\n",
    "        )\n",
    "        \n",
    "        # 🔹 W&B에 loss, accuracy 기록\n",
    "        wandb.log({\n",
    "            \"loss\": history.history[\"loss\"][-1],\n",
    "            \"val_loss\": history.history[\"val_loss\"][-1],\n",
    "            \"accuracy\": history.history[\"accuracy\"][-1],\n",
    "            \"val_accuracy\": history.history[\"val_accuracy\"][-1]\n",
    "        })\n",
    "\n",
    "        # 테스트 데이터 불러오기\n",
    "        test_generator = valid_test_datagen.flow_from_directory(\n",
    "            test_dir, target_size=(224, 224), batch_size=config.batch_size, class_mode='categorical')\n",
    "\n",
    "        # 모델 평가\n",
    "        loss, acc = model.evaluate(test_generator)\n",
    "\n",
    "        # 🔹 W&B에 테스트 결과 저장\n",
    "        wandb.log({\n",
    "            \"test_loss\": loss,\n",
    "            \"test_accuracy\": acc\n",
    "        })\n",
    "\n",
    "        print(f\"Test Loss: {loss:.4f}\")\n",
    "        print(f\"Test Accuracy: {acc:.4f}\")\n",
    "\n",
    "        # 모델 저장\n",
    "        model.save(f\"efficientnetb0_jellyfish_{wandb.run.name}.h5\")\n",
    "\n",
    "        # 학습 결과 시각화\n",
    "        plt.figure(figsize=(12, 5))\n",
    "        plt.subplot(1, 2, 1)\n",
    "        plt.plot(history.history['accuracy'], label='Train Accuracy')\n",
    "        plt.plot(history.history['val_accuracy'], label='Validation Accuracy')\n",
    "        plt.xlabel('Epochs')\n",
    "        plt.ylabel('Accuracy')\n",
    "        plt.legend()\n",
    "        plt.title('Accuracy over Epochs')\n",
    "\n",
    "        plt.subplot(1, 2, 2)\n",
    "        plt.plot(history.history['loss'], label='Train Loss')\n",
    "        plt.plot(history.history['val_loss'], label='Validation Loss')\n",
    "        plt.xlabel('Epochs')\n",
    "        plt.ylabel('Loss')\n",
    "        plt.legend()\n",
    "        plt.title('Loss over Epochs')\n",
    "\n",
    "        plt.show()\n",
    "\n",
    "        wandb.finish()  # ✅ train_sweep() 내부에서 W&B 종료\n",
    "\n",
    "# Sweep 실행\n",
    "wandb.agent(sweep_id, train_sweep, count=1)"
   ]
  },
  {
   "cell_type": "markdown",
   "id": "b6fce823",
   "metadata": {},
   "source": [
    "### test 2"
   ]
  },
  {
   "cell_type": "code",
   "execution_count": 12,
   "id": "c8d8a2bd",
   "metadata": {},
   "outputs": [],
   "source": [
    "# 데이터 경로 설정\n",
    "base_dir = \"./Train_Test_Valid_preprocessed\"\n",
    "train_dir = os.path.join(base_dir, \"Train_Cleaned\")\n",
    "valid_dir = os.path.join(base_dir, \"valid\")\n",
    "test_dir = os.path.join(base_dir, \"test\")"
   ]
  },
  {
   "cell_type": "code",
   "execution_count": 13,
   "id": "f92d1a7e",
   "metadata": {},
   "outputs": [],
   "source": [
    "# W&B Sweep 설정 (하이퍼파라미터 검색)\n",
    "sweep_config = {\n",
    "    \"method\": \"grid\",  # 모든 조합을 시도하려면 \"grid\", 무작위 탐색은 \"random\"\n",
    "    \"metric\": {\"name\": \"val_accuracy\", \"goal\": \"maximize\"},\n",
    "    \"parameters\": {\n",
    "        \"learning_rate\": {\"values\": [0.0001]},\n",
    "        \"batch_size\": {\"values\": [16]}, \n",
    "        \"dropout_rate\": {\"values\": [0.3]}, \n",
    "        \"epochs\": {\"values\": [20]} \n",
    "    },\n",
    "}"
   ]
  },
  {
   "cell_type": "code",
   "execution_count": 14,
   "id": "ea20a2b8",
   "metadata": {
    "scrolled": true
   },
   "outputs": [
    {
     "name": "stdout",
     "output_type": "stream",
     "text": [
      "Create sweep with ID: 04vad2jn\n",
      "Sweep URL: https://wandb.ai/aiffel-es-none/jellyfish_classification/sweeps/04vad2jn\n"
     ]
    }
   ],
   "source": [
    "# Sweep 생성\n",
    "sweep_id = wandb.sweep(sweep_config, project=\"jellyfish_classification\")"
   ]
  },
  {
   "cell_type": "code",
   "execution_count": 15,
   "id": "4f328938",
   "metadata": {
    "scrolled": true
   },
   "outputs": [
    {
     "name": "stderr",
     "output_type": "stream",
     "text": [
      "\u001b[34m\u001b[1mwandb\u001b[0m: Agent Starting Run: ur85cop7 with config:\n",
      "\u001b[34m\u001b[1mwandb\u001b[0m: \tbatch_size: 16\n",
      "\u001b[34m\u001b[1mwandb\u001b[0m: \tdropout_rate: 0.3\n",
      "\u001b[34m\u001b[1mwandb\u001b[0m: \tepochs: 20\n",
      "\u001b[34m\u001b[1mwandb\u001b[0m: \tlearning_rate: 0.0001\n"
     ]
    },
    {
     "data": {
      "text/html": [
       "wandb version 0.19.7 is available!  To upgrade, please run:\n",
       " $ pip install wandb --upgrade"
      ],
      "text/plain": [
       "<IPython.core.display.HTML object>"
      ]
     },
     "metadata": {},
     "output_type": "display_data"
    },
    {
     "data": {
      "text/html": [
       "Tracking run with wandb version 0.16.0"
      ],
      "text/plain": [
       "<IPython.core.display.HTML object>"
      ]
     },
     "metadata": {},
     "output_type": "display_data"
    },
    {
     "data": {
      "text/html": [
       "Run data is saved locally in <code>/aiffel/aiffel/jellyfish/wandb/run-20250228_053508-ur85cop7</code>"
      ],
      "text/plain": [
       "<IPython.core.display.HTML object>"
      ]
     },
     "metadata": {},
     "output_type": "display_data"
    },
    {
     "data": {
      "text/html": [
       "Syncing run <strong><a href='https://wandb.ai/aiffel-es-none/jellyfish_classification/runs/ur85cop7' target=\"_blank\">bumbling-sweep-1</a></strong> to <a href='https://wandb.ai/aiffel-es-none/jellyfish_classification' target=\"_blank\">Weights & Biases</a> (<a href='https://wandb.me/run' target=\"_blank\">docs</a>)<br/>Sweep page: <a href='https://wandb.ai/aiffel-es-none/jellyfish_classification/sweeps/04vad2jn' target=\"_blank\">https://wandb.ai/aiffel-es-none/jellyfish_classification/sweeps/04vad2jn</a>"
      ],
      "text/plain": [
       "<IPython.core.display.HTML object>"
      ]
     },
     "metadata": {},
     "output_type": "display_data"
    },
    {
     "data": {
      "text/html": [
       " View project at <a href='https://wandb.ai/aiffel-es-none/jellyfish_classification' target=\"_blank\">https://wandb.ai/aiffel-es-none/jellyfish_classification</a>"
      ],
      "text/plain": [
       "<IPython.core.display.HTML object>"
      ]
     },
     "metadata": {},
     "output_type": "display_data"
    },
    {
     "data": {
      "text/html": [
       " View sweep at <a href='https://wandb.ai/aiffel-es-none/jellyfish_classification/sweeps/04vad2jn' target=\"_blank\">https://wandb.ai/aiffel-es-none/jellyfish_classification/sweeps/04vad2jn</a>"
      ],
      "text/plain": [
       "<IPython.core.display.HTML object>"
      ]
     },
     "metadata": {},
     "output_type": "display_data"
    },
    {
     "data": {
      "text/html": [
       " View run at <a href='https://wandb.ai/aiffel-es-none/jellyfish_classification/runs/ur85cop7' target=\"_blank\">https://wandb.ai/aiffel-es-none/jellyfish_classification/runs/ur85cop7</a>"
      ],
      "text/plain": [
       "<IPython.core.display.HTML object>"
      ]
     },
     "metadata": {},
     "output_type": "display_data"
    },
    {
     "name": "stdout",
     "output_type": "stream",
     "text": [
      "Found 846 images belonging to 6 classes.\n",
      "Found 99 images belonging to 6 classes.\n",
      "Epoch 1/20\n",
      " 6/53 [==>...........................] - ETA: 8s - loss: 1.7743 - accuracy: 0.2766WARNING:tensorflow:Callback method `on_train_batch_end` is slow compared to the batch time (batch time: 0.0842s vs `on_train_batch_end` time: 0.0955s). Check your callbacks.\n",
      "53/53 [==============================] - 19s 215ms/step - loss: 1.3942 - accuracy: 0.5035 - val_loss: 1.1718 - val_accuracy: 0.6465\n",
      "Epoch 2/20\n",
      "53/53 [==============================] - 10s 194ms/step - loss: 0.6367 - accuracy: 0.8203 - val_loss: 0.7840 - val_accuracy: 0.6768\n",
      "Epoch 3/20\n",
      "53/53 [==============================] - 10s 193ms/step - loss: 0.3466 - accuracy: 0.9007 - val_loss: 0.7342 - val_accuracy: 0.6869\n",
      "Epoch 4/20\n",
      "53/53 [==============================] - 10s 195ms/step - loss: 0.2440 - accuracy: 0.9243 - val_loss: 0.6620 - val_accuracy: 0.7576\n",
      "Epoch 5/20\n",
      "53/53 [==============================] - 10s 192ms/step - loss: 0.1594 - accuracy: 0.9539 - val_loss: 0.6571 - val_accuracy: 0.7778\n",
      "Epoch 6/20\n",
      "53/53 [==============================] - 10s 194ms/step - loss: 0.1028 - accuracy: 0.9704 - val_loss: 0.6512 - val_accuracy: 0.7980\n",
      "Epoch 7/20\n",
      "53/53 [==============================] - 11s 198ms/step - loss: 0.0909 - accuracy: 0.9811 - val_loss: 0.6760 - val_accuracy: 0.7778\n",
      "Epoch 8/20\n",
      "53/53 [==============================] - 10s 192ms/step - loss: 0.0937 - accuracy: 0.9716 - val_loss: 0.6882 - val_accuracy: 0.7879\n",
      "Epoch 9/20\n",
      "53/53 [==============================] - 11s 196ms/step - loss: 0.0572 - accuracy: 0.9882 - val_loss: 0.7552 - val_accuracy: 0.7778\n",
      "Epoch 10/20\n",
      "53/53 [==============================] - 10s 193ms/step - loss: 0.0491 - accuracy: 0.9870 - val_loss: 0.7598 - val_accuracy: 0.7576\n",
      "Epoch 11/20\n",
      "53/53 [==============================] - 10s 194ms/step - loss: 0.0599 - accuracy: 0.9835 - val_loss: 0.7547 - val_accuracy: 0.7576\n",
      "Found 40 images belonging to 6 classes.\n",
      "3/3 [==============================] - 0s 27ms/step - loss: 0.2937 - accuracy: 0.9250\n",
      "Test Loss: 0.2937\n",
      "Test Accuracy: 0.9250\n"
     ]
    },
    {
     "data": {
      "image/png": "[encoded data removed]",
      "text/plain": [
       "<Figure size 864x360 with 2 Axes>"
      ]
     },
     "metadata": {
      "needs_background": "light"
     },
     "output_type": "display_data"
    },
    {
     "data": {
      "application/vnd.jupyter.widget-view+json": {
       "model_id": "",
       "version_major": 2,
       "version_minor": 0
      },
      "text/plain": [
       "VBox(children=(Label(value='0.001 MB of 0.010 MB uploaded\\r'), FloatProgress(value=0.1309030654515327, max=1.0…"
      ]
     },
     "metadata": {},
     "output_type": "display_data"
    },
    {
     "data": {
      "text/html": [
       "<style>\n",
       "    table.wandb td:nth-child(1) { padding: 0 10px; text-align: left ; width: auto;} td:nth-child(2) {text-align: left ; width: 100%}\n",
       "    .wandb-row { display: flex; flex-direction: row; flex-wrap: wrap; justify-content: flex-start; width: 100% }\n",
       "    .wandb-col { display: flex; flex-direction: column; flex-basis: 100%; flex: 1; padding: 10px; }\n",
       "    </style>\n",
       "<div class=\"wandb-row\"><div class=\"wandb-col\"><h3>Run history:</h3><br/><table class=\"wandb\"><tr><td>accuracy</td><td>▁</td></tr><tr><td>epoch/accuracy</td><td>▁▆▇▇███████</td></tr><tr><td>epoch/epoch</td><td>▁▂▂▃▄▅▅▆▇▇█</td></tr><tr><td>epoch/learning_rate</td><td>████████▁▁▁</td></tr><tr><td>epoch/loss</td><td>█▄▃▂▂▁▁▁▁▁▁</td></tr><tr><td>epoch/lr</td><td>█████████▁▁</td></tr><tr><td>epoch/val_accuracy</td><td>▁▂▃▆▇█▇█▇▆▆</td></tr><tr><td>epoch/val_loss</td><td>█▃▂▁▁▁▁▁▂▂▂</td></tr><tr><td>loss</td><td>▁</td></tr><tr><td>test_accuracy</td><td>▁</td></tr><tr><td>test_loss</td><td>▁</td></tr><tr><td>val_accuracy</td><td>▁</td></tr><tr><td>val_loss</td><td>▁</td></tr></table><br/></div><div class=\"wandb-col\"><h3>Run summary:</h3><br/><table class=\"wandb\"><tr><td>accuracy</td><td>0.98345</td></tr><tr><td>epoch/accuracy</td><td>0.98345</td></tr><tr><td>epoch/epoch</td><td>10</td></tr><tr><td>epoch/learning_rate</td><td>2e-05</td></tr><tr><td>epoch/loss</td><td>0.0599</td></tr><tr><td>epoch/lr</td><td>2e-05</td></tr><tr><td>epoch/val_accuracy</td><td>0.75758</td></tr><tr><td>epoch/val_loss</td><td>0.75473</td></tr><tr><td>loss</td><td>0.0599</td></tr><tr><td>test_accuracy</td><td>0.925</td></tr><tr><td>test_loss</td><td>0.29372</td></tr><tr><td>val_accuracy</td><td>0.75758</td></tr><tr><td>val_loss</td><td>0.75473</td></tr></table><br/></div></div>"
      ],
      "text/plain": [
       "<IPython.core.display.HTML object>"
      ]
     },
     "metadata": {},
     "output_type": "display_data"
    },
    {
     "data": {
      "text/html": [
       " View run <strong style=\"color:#cdcd00\">bumbling-sweep-1</strong> at: <a href='https://wandb.ai/aiffel-es-none/jellyfish_classification/runs/ur85cop7' target=\"_blank\">https://wandb.ai/aiffel-es-none/jellyfish_classification/runs/ur85cop7</a><br/>Synced 5 W&B file(s), 0 media file(s), 0 artifact file(s) and 0 other file(s)"
      ],
      "text/plain": [
       "<IPython.core.display.HTML object>"
      ]
     },
     "metadata": {},
     "output_type": "display_data"
    },
    {
     "data": {
      "text/html": [
       "Find logs at: <code>./wandb/run-20250228_053508-ur85cop7/logs</code>"
      ],
      "text/plain": [
       "<IPython.core.display.HTML object>"
      ]
     },
     "metadata": {},
     "output_type": "display_data"
    }
   ],
   "source": [
    "# Sweep을 위한 학습 함수\n",
    "def train_sweep():\n",
    "    with wandb.init():\n",
    "        config = wandb.config  # Sweep 하이퍼파라미터 가져오기\n",
    "        \n",
    "        # EfficientNetB0 모델 불러오기\n",
    "        base_model = EfficientNetB0(weights='imagenet', include_top=False, input_shape=(224, 224, 3))\n",
    "\n",
    "        # 새 Fully Connected Layer 추가\n",
    "        x = GlobalAveragePooling2D()(base_model.output)\n",
    "        x = Dense(512, activation='relu')(x)\n",
    "        x = Dropout(config.dropout_rate)(x)  # Sweep에서 dropout 값을 자동으로 변경\n",
    "        x = Dense(6, activation='softmax')(x)\n",
    "\n",
    "        # 새로운 모델 생성\n",
    "        model = Model(inputs=base_model.input, outputs=x)\n",
    "\n",
    "        # EfficientNetB0 일부 레이어만 학습 가능하도록 설정\n",
    "        for layer in base_model.layers[:-50]:  # 마지막 50개 레이어만 학습\n",
    "            layer.trainable = True\n",
    "\n",
    "        # 모델 컴파일\n",
    "        model.compile(optimizer=Adam(learning_rate=config.learning_rate),\n",
    "                      loss='categorical_crossentropy', metrics=['accuracy'])\n",
    "\n",
    "        # 데이터 증강 및 전처리\n",
    "        train_datagen = ImageDataGenerator(\n",
    "            rescale=1./255,\n",
    "            rotation_range=30,\n",
    "            width_shift_range=0.2,\n",
    "            height_shift_range=0.2,\n",
    "            shear_range=0.2,\n",
    "            zoom_range=0.2,\n",
    "            horizontal_flip=True,\n",
    "            vertical_flip=True\n",
    "        )\n",
    "        valid_test_datagen = ImageDataGenerator(rescale=1./255)\n",
    "\n",
    "        train_generator = train_datagen.flow_from_directory(\n",
    "            train_dir, target_size=(224, 224), batch_size=config.batch_size, class_mode='categorical')\n",
    "        val_generator = valid_test_datagen.flow_from_directory(\n",
    "            valid_dir, target_size=(224, 224), batch_size=config.batch_size, class_mode='categorical')\n",
    "\n",
    "        # 콜백 함수 설정\n",
    "        early_stopping = EarlyStopping(monitor='val_loss', patience=5, restore_best_weights=True)\n",
    "        reduce_lr = ReduceLROnPlateau(monitor='val_loss', factor=0.2, patience=3, min_lr=1e-7)\n",
    "\n",
    "        # 모델 학습\n",
    "        history = model.fit(\n",
    "            train_generator,\n",
    "            validation_data=val_generator,\n",
    "            epochs=config.epochs,\n",
    "            callbacks=[early_stopping, reduce_lr, WandbMetricsLogger()]\n",
    "        )\n",
    "        \n",
    "        # 🔹 W&B에 loss, accuracy 기록\n",
    "        wandb.log({\n",
    "            \"loss\": history.history[\"loss\"][-1],\n",
    "            \"val_loss\": history.history[\"val_loss\"][-1],\n",
    "            \"accuracy\": history.history[\"accuracy\"][-1],\n",
    "            \"val_accuracy\": history.history[\"val_accuracy\"][-1]\n",
    "        })\n",
    "\n",
    "        # 테스트 데이터 불러오기\n",
    "        test_generator = valid_test_datagen.flow_from_directory(\n",
    "            test_dir, target_size=(224, 224), batch_size=config.batch_size, class_mode='categorical')\n",
    "\n",
    "        # 모델 평가\n",
    "        loss, acc = model.evaluate(test_generator)\n",
    "\n",
    "        # 🔹 W&B에 테스트 결과 저장\n",
    "        wandb.log({\n",
    "            \"test_loss\": loss,\n",
    "            \"test_accuracy\": acc\n",
    "        })\n",
    "\n",
    "        print(f\"Test Loss: {loss:.4f}\")\n",
    "        print(f\"Test Accuracy: {acc:.4f}\")\n",
    "\n",
    "        # 모델 저장\n",
    "        model.save(f\"efficientnetb0_jellyfish_{wandb.run.name}.h5\")\n",
    "\n",
    "        # 학습 결과 시각화\n",
    "        plt.figure(figsize=(12, 5))\n",
    "        plt.subplot(1, 2, 1)\n",
    "        plt.plot(history.history['accuracy'], label='Train Accuracy')\n",
    "        plt.plot(history.history['val_accuracy'], label='Validation Accuracy')\n",
    "        plt.xlabel('Epochs')\n",
    "        plt.ylabel('Accuracy')\n",
    "        plt.legend()\n",
    "        plt.title('Accuracy over Epochs')\n",
    "\n",
    "        plt.subplot(1, 2, 2)\n",
    "        plt.plot(history.history['loss'], label='Train Loss')\n",
    "        plt.plot(history.history['val_loss'], label='Validation Loss')\n",
    "        plt.xlabel('Epochs')\n",
    "        plt.ylabel('Loss')\n",
    "        plt.legend()\n",
    "        plt.title('Loss over Epochs')\n",
    "\n",
    "        plt.show()\n",
    "\n",
    "        wandb.finish()  # ✅ train_sweep() 내부에서 W&B 종료\n",
    "\n",
    "# Sweep 실행\n",
    "wandb.agent(sweep_id, train_sweep, count=1)"
   ]
  },
  {
   "cell_type": "markdown",
   "id": "6495c691",
   "metadata": {},
   "source": [
    "### test 3"
   ]
  },
  {
   "cell_type": "code",
   "execution_count": 16,
   "id": "2071b278",
   "metadata": {},
   "outputs": [],
   "source": [
    "# 데이터 경로 설정\n",
    "base_dir = \"./Train_Test_Valid_preprocessed\"\n",
    "train_dir = os.path.join(base_dir, \"Train_Cleaned\")\n",
    "valid_dir = os.path.join(base_dir, \"valid\")\n",
    "test_dir = os.path.join(base_dir, \"test\")"
   ]
  },
  {
   "cell_type": "code",
   "execution_count": 17,
   "id": "924fc5fd",
   "metadata": {},
   "outputs": [],
   "source": [
    "# W&B Sweep 설정 (하이퍼파라미터 검색)\n",
    "sweep_config = {\n",
    "    \"method\": \"grid\",  # 모든 조합을 시도하려면 \"grid\", 무작위 탐색은 \"random\"\n",
    "    \"metric\": {\"name\": \"val_accuracy\", \"goal\": \"maximize\"},\n",
    "    \"parameters\": {\n",
    "        \"learning_rate\": {\"values\": [0.0001]},\n",
    "        \"batch_size\": {\"values\": [16]}, \n",
    "        \"dropout_rate\": {\"values\": [0.25]}, \n",
    "        \"epochs\": {\"values\": [20]} \n",
    "    },\n",
    "}"
   ]
  },
  {
   "cell_type": "code",
   "execution_count": 18,
   "id": "19383c6e",
   "metadata": {
    "scrolled": true
   },
   "outputs": [
    {
     "name": "stdout",
     "output_type": "stream",
     "text": [
      "Create sweep with ID: 85u25ca0\n",
      "Sweep URL: https://wandb.ai/aiffel-es-none/jellyfish_classification/sweeps/85u25ca0\n"
     ]
    }
   ],
   "source": [
    "# Sweep 생성\n",
    "sweep_id = wandb.sweep(sweep_config, project=\"jellyfish_classification\")"
   ]
  },
  {
   "cell_type": "code",
   "execution_count": 19,
   "id": "5efd7221",
   "metadata": {
    "scrolled": false
   },
   "outputs": [
    {
     "name": "stderr",
     "output_type": "stream",
     "text": [
      "\u001b[34m\u001b[1mwandb\u001b[0m: Agent Starting Run: n7geg9z9 with config:\n",
      "\u001b[34m\u001b[1mwandb\u001b[0m: \tbatch_size: 16\n",
      "\u001b[34m\u001b[1mwandb\u001b[0m: \tdropout_rate: 0.25\n",
      "\u001b[34m\u001b[1mwandb\u001b[0m: \tepochs: 20\n",
      "\u001b[34m\u001b[1mwandb\u001b[0m: \tlearning_rate: 0.0001\n"
     ]
    },
    {
     "data": {
      "text/html": [
       "wandb version 0.19.7 is available!  To upgrade, please run:\n",
       " $ pip install wandb --upgrade"
      ],
      "text/plain": [
       "<IPython.core.display.HTML object>"
      ]
     },
     "metadata": {},
     "output_type": "display_data"
    },
    {
     "data": {
      "text/html": [
       "Tracking run with wandb version 0.16.0"
      ],
      "text/plain": [
       "<IPython.core.display.HTML object>"
      ]
     },
     "metadata": {},
     "output_type": "display_data"
    },
    {
     "data": {
      "text/html": [
       "Run data is saved locally in <code>/aiffel/aiffel/jellyfish/wandb/run-20250228_054512-n7geg9z9</code>"
      ],
      "text/plain": [
       "<IPython.core.display.HTML object>"
      ]
     },
     "metadata": {},
     "output_type": "display_data"
    },
    {
     "data": {
      "text/html": [
       "Syncing run <strong><a href='https://wandb.ai/aiffel-es-none/jellyfish_classification/runs/n7geg9z9' target=\"_blank\">comic-sweep-1</a></strong> to <a href='https://wandb.ai/aiffel-es-none/jellyfish_classification' target=\"_blank\">Weights & Biases</a> (<a href='https://wandb.me/run' target=\"_blank\">docs</a>)<br/>Sweep page: <a href='https://wandb.ai/aiffel-es-none/jellyfish_classification/sweeps/85u25ca0' target=\"_blank\">https://wandb.ai/aiffel-es-none/jellyfish_classification/sweeps/85u25ca0</a>"
      ],
      "text/plain": [
       "<IPython.core.display.HTML object>"
      ]
     },
     "metadata": {},
     "output_type": "display_data"
    },
    {
     "data": {
      "text/html": [
       " View project at <a href='https://wandb.ai/aiffel-es-none/jellyfish_classification' target=\"_blank\">https://wandb.ai/aiffel-es-none/jellyfish_classification</a>"
      ],
      "text/plain": [
       "<IPython.core.display.HTML object>"
      ]
     },
     "metadata": {},
     "output_type": "display_data"
    },
    {
     "data": {
      "text/html": [
       " View sweep at <a href='https://wandb.ai/aiffel-es-none/jellyfish_classification/sweeps/85u25ca0' target=\"_blank\">https://wandb.ai/aiffel-es-none/jellyfish_classification/sweeps/85u25ca0</a>"
      ],
      "text/plain": [
       "<IPython.core.display.HTML object>"
      ]
     },
     "metadata": {},
     "output_type": "display_data"
    },
    {
     "data": {
      "text/html": [
       " View run at <a href='https://wandb.ai/aiffel-es-none/jellyfish_classification/runs/n7geg9z9' target=\"_blank\">https://wandb.ai/aiffel-es-none/jellyfish_classification/runs/n7geg9z9</a>"
      ],
      "text/plain": [
       "<IPython.core.display.HTML object>"
      ]
     },
     "metadata": {},
     "output_type": "display_data"
    },
    {
     "name": "stdout",
     "output_type": "stream",
     "text": [
      "Found 846 images belonging to 6 classes.\n",
      "Found 99 images belonging to 6 classes.\n",
      "Epoch 1/20\n",
      "53/53 [==============================] - 19s 220ms/step - loss: 1.3912 - accuracy: 0.5414 - val_loss: 1.1181 - val_accuracy: 0.6364\n",
      "Epoch 2/20\n",
      "53/53 [==============================] - 10s 193ms/step - loss: 0.6496 - accuracy: 0.8251 - val_loss: 0.7372 - val_accuracy: 0.7374\n",
      "Epoch 3/20\n",
      "53/53 [==============================] - 10s 195ms/step - loss: 0.3443 - accuracy: 0.9054 - val_loss: 0.6234 - val_accuracy: 0.7879\n",
      "Epoch 4/20\n",
      "53/53 [==============================] - 11s 198ms/step - loss: 0.2141 - accuracy: 0.9338 - val_loss: 0.6544 - val_accuracy: 0.7879\n",
      "Epoch 5/20\n",
      "53/53 [==============================] - 11s 196ms/step - loss: 0.1953 - accuracy: 0.9444 - val_loss: 0.6036 - val_accuracy: 0.7980\n",
      "Epoch 6/20\n",
      "53/53 [==============================] - 10s 195ms/step - loss: 0.1316 - accuracy: 0.9586 - val_loss: 0.6262 - val_accuracy: 0.7778\n",
      "Epoch 7/20\n",
      "53/53 [==============================] - 10s 196ms/step - loss: 0.1031 - accuracy: 0.9716 - val_loss: 0.6483 - val_accuracy: 0.7677\n",
      "Epoch 8/20\n",
      "53/53 [==============================] - 10s 194ms/step - loss: 0.0720 - accuracy: 0.9775 - val_loss: 0.7047 - val_accuracy: 0.7879\n",
      "Epoch 9/20\n",
      "53/53 [==============================] - 10s 193ms/step - loss: 0.0575 - accuracy: 0.9835 - val_loss: 0.7059 - val_accuracy: 0.7778\n",
      "Epoch 10/20\n",
      "53/53 [==============================] - 10s 195ms/step - loss: 0.0547 - accuracy: 0.9846 - val_loss: 0.7321 - val_accuracy: 0.7677\n",
      "Found 40 images belonging to 6 classes.\n",
      "3/3 [==============================] - 0s 34ms/step - loss: 0.2528 - accuracy: 0.9500\n",
      "Test Loss: 0.2528\n",
      "Test Accuracy: 0.9500\n"
     ]
    },
    {
     "data": {
      "image/png": "[encoded data removed]",
      "text/plain": [
       "<Figure size 864x360 with 2 Axes>"
      ]
     },
     "metadata": {
      "needs_background": "light"
     },
     "output_type": "display_data"
    },
    {
     "data": {
      "application/vnd.jupyter.widget-view+json": {
       "model_id": "",
       "version_major": 2,
       "version_minor": 0
      },
      "text/plain": [
       "VBox(children=(Label(value='0.010 MB of 0.010 MB uploaded\\r'), FloatProgress(value=1.0, max=1.0)))"
      ]
     },
     "metadata": {},
     "output_type": "display_data"
    },
    {
     "data": {
      "text/html": [
       "<style>\n",
       "    table.wandb td:nth-child(1) { padding: 0 10px; text-align: left ; width: auto;} td:nth-child(2) {text-align: left ; width: 100%}\n",
       "    .wandb-row { display: flex; flex-direction: row; flex-wrap: wrap; justify-content: flex-start; width: 100% }\n",
       "    .wandb-col { display: flex; flex-direction: column; flex-basis: 100%; flex: 1; padding: 10px; }\n",
       "    </style>\n",
       "<div class=\"wandb-row\"><div class=\"wandb-col\"><h3>Run history:</h3><br/><table class=\"wandb\"><tr><td>accuracy</td><td>▁</td></tr><tr><td>epoch/accuracy</td><td>▁▅▇▇▇█████</td></tr><tr><td>epoch/epoch</td><td>▁▂▃▃▄▅▆▆▇█</td></tr><tr><td>epoch/learning_rate</td><td>███████▁▁▁</td></tr><tr><td>epoch/loss</td><td>█▄▃▂▂▁▁▁▁▁</td></tr><tr><td>epoch/lr</td><td>████████▁▁</td></tr><tr><td>epoch/val_accuracy</td><td>▁▅███▇▇█▇▇</td></tr><tr><td>epoch/val_loss</td><td>█▃▁▂▁▁▂▂▂▃</td></tr><tr><td>loss</td><td>▁</td></tr><tr><td>test_accuracy</td><td>▁</td></tr><tr><td>test_loss</td><td>▁</td></tr><tr><td>val_accuracy</td><td>▁</td></tr><tr><td>val_loss</td><td>▁</td></tr></table><br/></div><div class=\"wandb-col\"><h3>Run summary:</h3><br/><table class=\"wandb\"><tr><td>accuracy</td><td>0.98463</td></tr><tr><td>epoch/accuracy</td><td>0.98463</td></tr><tr><td>epoch/epoch</td><td>9</td></tr><tr><td>epoch/learning_rate</td><td>2e-05</td></tr><tr><td>epoch/loss</td><td>0.05472</td></tr><tr><td>epoch/lr</td><td>2e-05</td></tr><tr><td>epoch/val_accuracy</td><td>0.76768</td></tr><tr><td>epoch/val_loss</td><td>0.73214</td></tr><tr><td>loss</td><td>0.05472</td></tr><tr><td>test_accuracy</td><td>0.95</td></tr><tr><td>test_loss</td><td>0.25277</td></tr><tr><td>val_accuracy</td><td>0.76768</td></tr><tr><td>val_loss</td><td>0.73214</td></tr></table><br/></div></div>"
      ],
      "text/plain": [
       "<IPython.core.display.HTML object>"
      ]
     },
     "metadata": {},
     "output_type": "display_data"
    },
    {
     "data": {
      "text/html": [
       " View run <strong style=\"color:#cdcd00\">comic-sweep-1</strong> at: <a href='https://wandb.ai/aiffel-es-none/jellyfish_classification/runs/n7geg9z9' target=\"_blank\">https://wandb.ai/aiffel-es-none/jellyfish_classification/runs/n7geg9z9</a><br/>Synced 5 W&B file(s), 0 media file(s), 0 artifact file(s) and 0 other file(s)"
      ],
      "text/plain": [
       "<IPython.core.display.HTML object>"
      ]
     },
     "metadata": {},
     "output_type": "display_data"
    },
    {
     "data": {
      "text/html": [
       "Find logs at: <code>./wandb/run-20250228_054512-n7geg9z9/logs</code>"
      ],
      "text/plain": [
       "<IPython.core.display.HTML object>"
      ]
     },
     "metadata": {},
     "output_type": "display_data"
    }
   ],
   "source": [
    "# Sweep을 위한 학습 함수\n",
    "def train_sweep():\n",
    "    with wandb.init():\n",
    "        config = wandb.config  # Sweep 하이퍼파라미터 가져오기\n",
    "        \n",
    "        # EfficientNetB0 모델 불러오기\n",
    "        base_model = EfficientNetB0(weights='imagenet', include_top=False, input_shape=(224, 224, 3))\n",
    "\n",
    "        # 새 Fully Connected Layer 추가\n",
    "        x = GlobalAveragePooling2D()(base_model.output)\n",
    "        x = Dense(512, activation='relu')(x)\n",
    "        x = Dropout(config.dropout_rate)(x)  # Sweep에서 dropout 값을 자동으로 변경\n",
    "        x = Dense(6, activation='softmax')(x)\n",
    "\n",
    "        # 새로운 모델 생성\n",
    "        model = Model(inputs=base_model.input, outputs=x)\n",
    "\n",
    "        # EfficientNetB0 일부 레이어만 학습 가능하도록 설정\n",
    "        for layer in base_model.layers[:-50]:  # 마지막 50개 레이어만 학습\n",
    "            layer.trainable = True\n",
    "\n",
    "        # 모델 컴파일\n",
    "        model.compile(optimizer=Adam(learning_rate=config.learning_rate),\n",
    "                      loss='categorical_crossentropy', metrics=['accuracy'])\n",
    "\n",
    "        # 데이터 증강 및 전처리\n",
    "        train_datagen = ImageDataGenerator(\n",
    "            rescale=1./255,\n",
    "            rotation_range=30,\n",
    "            width_shift_range=0.2,\n",
    "            height_shift_range=0.2,\n",
    "            shear_range=0.2,\n",
    "            zoom_range=0.2,\n",
    "            horizontal_flip=True,\n",
    "            vertical_flip=True\n",
    "        )\n",
    "        valid_test_datagen = ImageDataGenerator(rescale=1./255)\n",
    "\n",
    "        train_generator = train_datagen.flow_from_directory(\n",
    "            train_dir, target_size=(224, 224), batch_size=config.batch_size, class_mode='categorical')\n",
    "        val_generator = valid_test_datagen.flow_from_directory(\n",
    "            valid_dir, target_size=(224, 224), batch_size=config.batch_size, class_mode='categorical')\n",
    "\n",
    "        # 콜백 함수 설정\n",
    "        early_stopping = EarlyStopping(monitor='val_loss', patience=5, restore_best_weights=True)\n",
    "        reduce_lr = ReduceLROnPlateau(monitor='val_loss', factor=0.2, patience=3, min_lr=1e-7)\n",
    "\n",
    "        # 모델 학습\n",
    "        history = model.fit(\n",
    "            train_generator,\n",
    "            validation_data=val_generator,\n",
    "            epochs=config.epochs,\n",
    "            callbacks=[early_stopping, reduce_lr, WandbMetricsLogger()]\n",
    "        )\n",
    "        \n",
    "        # 🔹 W&B에 loss, accuracy 기록\n",
    "        wandb.log({\n",
    "            \"loss\": history.history[\"loss\"][-1],\n",
    "            \"val_loss\": history.history[\"val_loss\"][-1],\n",
    "            \"accuracy\": history.history[\"accuracy\"][-1],\n",
    "            \"val_accuracy\": history.history[\"val_accuracy\"][-1]\n",
    "        })\n",
    "\n",
    "        # 테스트 데이터 불러오기\n",
    "        test_generator = valid_test_datagen.flow_from_directory(\n",
    "            test_dir, target_size=(224, 224), batch_size=config.batch_size, class_mode='categorical')\n",
    "\n",
    "        # 모델 평가\n",
    "        loss, acc = model.evaluate(test_generator)\n",
    "\n",
    "        # 🔹 W&B에 테스트 결과 저장\n",
    "        wandb.log({\n",
    "            \"test_loss\": loss,\n",
    "            \"test_accuracy\": acc\n",
    "        })\n",
    "\n",
    "        print(f\"Test Loss: {loss:.4f}\")\n",
    "        print(f\"Test Accuracy: {acc:.4f}\")\n",
    "\n",
    "        # 모델 저장\n",
    "        model.save(f\"efficientnetb0_jellyfish_{wandb.run.name}.h5\")\n",
    "\n",
    "        # 학습 결과 시각화\n",
    "        plt.figure(figsize=(12, 5))\n",
    "        plt.subplot(1, 2, 1)\n",
    "        plt.plot(history.history['accuracy'], label='Train Accuracy')\n",
    "        plt.plot(history.history['val_accuracy'], label='Validation Accuracy')\n",
    "        plt.xlabel('Epochs')\n",
    "        plt.ylabel('Accuracy')\n",
    "        plt.legend()\n",
    "        plt.title('Accuracy over Epochs')\n",
    "\n",
    "        plt.subplot(1, 2, 2)\n",
    "        plt.plot(history.history['loss'], label='Train Loss')\n",
    "        plt.plot(history.history['val_loss'], label='Validation Loss')\n",
    "        plt.xlabel('Epochs')\n",
    "        plt.ylabel('Loss')\n",
    "        plt.legend()\n",
    "        plt.title('Loss over Epochs')\n",
    "\n",
    "        plt.show()\n",
    "\n",
    "        wandb.finish()  # ✅ train_sweep() 내부에서 W&B 종료\n",
    "\n",
    "# Sweep 실행\n",
    "wandb.agent(sweep_id, train_sweep, count=1)"
   ]
  },
  {
   "cell_type": "markdown",
   "id": "89b0cabb",
   "metadata": {},
   "source": [
    "## test 4 → 최적의 하이퍼파라미터 확정"
   ]
  },
  {
   "cell_type": "code",
   "execution_count": 22,
   "id": "71dc9d0a",
   "metadata": {},
   "outputs": [],
   "source": [
    "# 데이터 경로 설정\n",
    "base_dir = \"./Train_Test_Valid_preprocessed\"\n",
    "train_dir = os.path.join(base_dir, \"Train_Cleaned\")\n",
    "valid_dir = os.path.join(base_dir, \"valid\")\n",
    "test_dir = os.path.join(base_dir, \"test\")"
   ]
  },
  {
   "cell_type": "code",
   "execution_count": 23,
   "id": "e7818844",
   "metadata": {},
   "outputs": [],
   "source": [
    "# W&B Sweep 설정 (하이퍼파라미터 검색)\n",
    "sweep_config = {\n",
    "    \"method\": \"grid\",  # 모든 조합을 시도하려면 \"grid\", 무작위 탐색은 \"random\"\n",
    "    \"metric\": {\"name\": \"val_accuracy\", \"goal\": \"maximize\"},\n",
    "    \"parameters\": {\n",
    "        \"learning_rate\": {\"values\": [0.0001]},\n",
    "        \"batch_size\": {\"values\": [16]}, \n",
    "        \"dropout_rate\": {\"values\": [0.5]}, \n",
    "        \"epochs\": {\"values\": [30]} \n",
    "    },\n",
    "}"
   ]
  },
  {
   "cell_type": "code",
   "execution_count": 24,
   "id": "d3c0a34c",
   "metadata": {
    "scrolled": true
   },
   "outputs": [
    {
     "name": "stdout",
     "output_type": "stream",
     "text": [
      "Create sweep with ID: p02izc30\n",
      "Sweep URL: https://wandb.ai/aiffel-es-none/jellyfish_classification/sweeps/p02izc30\n"
     ]
    }
   ],
   "source": [
    "# Sweep 생성\n",
    "sweep_id = wandb.sweep(sweep_config, project=\"jellyfish_classification\")"
   ]
  },
  {
   "cell_type": "code",
   "execution_count": 25,
   "id": "834f1cec",
   "metadata": {
    "scrolled": true
   },
   "outputs": [
    {
     "name": "stderr",
     "output_type": "stream",
     "text": [
      "\u001b[34m\u001b[1mwandb\u001b[0m: Agent Starting Run: zcxmpjn5 with config:\n",
      "\u001b[34m\u001b[1mwandb\u001b[0m: \tbatch_size: 16\n",
      "\u001b[34m\u001b[1mwandb\u001b[0m: \tdropout_rate: 0.5\n",
      "\u001b[34m\u001b[1mwandb\u001b[0m: \tepochs: 30\n",
      "\u001b[34m\u001b[1mwandb\u001b[0m: \tlearning_rate: 0.0001\n"
     ]
    },
    {
     "data": {
      "text/html": [
       "wandb version 0.19.7 is available!  To upgrade, please run:\n",
       " $ pip install wandb --upgrade"
      ],
      "text/plain": [
       "<IPython.core.display.HTML object>"
      ]
     },
     "metadata": {},
     "output_type": "display_data"
    },
    {
     "data": {
      "text/html": [
       "Tracking run with wandb version 0.16.0"
      ],
      "text/plain": [
       "<IPython.core.display.HTML object>"
      ]
     },
     "metadata": {},
     "output_type": "display_data"
    },
    {
     "data": {
      "text/html": [
       "Run data is saved locally in <code>/aiffel/aiffel/jellyfish/wandb/run-20250228_060556-zcxmpjn5</code>"
      ],
      "text/plain": [
       "<IPython.core.display.HTML object>"
      ]
     },
     "metadata": {},
     "output_type": "display_data"
    },
    {
     "data": {
      "text/html": [
       "Syncing run <strong><a href='https://wandb.ai/aiffel-es-none/jellyfish_classification/runs/zcxmpjn5' target=\"_blank\">trim-sweep-1</a></strong> to <a href='https://wandb.ai/aiffel-es-none/jellyfish_classification' target=\"_blank\">Weights & Biases</a> (<a href='https://wandb.me/run' target=\"_blank\">docs</a>)<br/>Sweep page: <a href='https://wandb.ai/aiffel-es-none/jellyfish_classification/sweeps/p02izc30' target=\"_blank\">https://wandb.ai/aiffel-es-none/jellyfish_classification/sweeps/p02izc30</a>"
      ],
      "text/plain": [
       "<IPython.core.display.HTML object>"
      ]
     },
     "metadata": {},
     "output_type": "display_data"
    },
    {
     "data": {
      "text/html": [
       " View project at <a href='https://wandb.ai/aiffel-es-none/jellyfish_classification' target=\"_blank\">https://wandb.ai/aiffel-es-none/jellyfish_classification</a>"
      ],
      "text/plain": [
       "<IPython.core.display.HTML object>"
      ]
     },
     "metadata": {},
     "output_type": "display_data"
    },
    {
     "data": {
      "text/html": [
       " View sweep at <a href='https://wandb.ai/aiffel-es-none/jellyfish_classification/sweeps/p02izc30' target=\"_blank\">https://wandb.ai/aiffel-es-none/jellyfish_classification/sweeps/p02izc30</a>"
      ],
      "text/plain": [
       "<IPython.core.display.HTML object>"
      ]
     },
     "metadata": {},
     "output_type": "display_data"
    },
    {
     "data": {
      "text/html": [
       " View run at <a href='https://wandb.ai/aiffel-es-none/jellyfish_classification/runs/zcxmpjn5' target=\"_blank\">https://wandb.ai/aiffel-es-none/jellyfish_classification/runs/zcxmpjn5</a>"
      ],
      "text/plain": [
       "<IPython.core.display.HTML object>"
      ]
     },
     "metadata": {},
     "output_type": "display_data"
    },
    {
     "name": "stdout",
     "output_type": "stream",
     "text": [
      "Found 846 images belonging to 6 classes.\n",
      "Found 99 images belonging to 6 classes.\n",
      "Epoch 1/30\n",
      "53/53 [==============================] - 20s 231ms/step - loss: 1.5068 - accuracy: 0.4314 - val_loss: 1.2408 - val_accuracy: 0.5657\n",
      "Epoch 2/30\n",
      "53/53 [==============================] - 10s 195ms/step - loss: 0.7936 - accuracy: 0.7908 - val_loss: 0.8535 - val_accuracy: 0.6768\n",
      "Epoch 3/30\n",
      "53/53 [==============================] - 11s 197ms/step - loss: 0.4817 - accuracy: 0.8404 - val_loss: 0.7326 - val_accuracy: 0.7475\n",
      "Epoch 4/30\n",
      "53/53 [==============================] - 10s 195ms/step - loss: 0.3313 - accuracy: 0.8913 - val_loss: 0.6612 - val_accuracy: 0.7879\n",
      "Epoch 5/30\n",
      "53/53 [==============================] - 10s 194ms/step - loss: 0.2200 - accuracy: 0.9279 - val_loss: 0.6464 - val_accuracy: 0.7778\n",
      "Epoch 6/30\n",
      "53/53 [==============================] - 10s 194ms/step - loss: 0.1538 - accuracy: 0.9527 - val_loss: 0.6556 - val_accuracy: 0.7879\n",
      "Epoch 7/30\n",
      "53/53 [==============================] - 10s 193ms/step - loss: 0.1280 - accuracy: 0.9574 - val_loss: 0.6962 - val_accuracy: 0.7980\n",
      "Epoch 8/30\n",
      "53/53 [==============================] - 10s 195ms/step - loss: 0.0973 - accuracy: 0.9716 - val_loss: 0.6413 - val_accuracy: 0.8081\n",
      "Epoch 9/30\n",
      "53/53 [==============================] - 10s 193ms/step - loss: 0.0928 - accuracy: 0.9693 - val_loss: 0.7178 - val_accuracy: 0.7677\n",
      "Epoch 10/30\n",
      "53/53 [==============================] - 10s 195ms/step - loss: 0.0663 - accuracy: 0.9858 - val_loss: 0.8053 - val_accuracy: 0.7980\n",
      "Epoch 11/30\n",
      "53/53 [==============================] - 11s 196ms/step - loss: 0.0481 - accuracy: 0.9882 - val_loss: 0.7702 - val_accuracy: 0.8081\n",
      "\n",
      "Epoch 00011: ReduceLROnPlateau reducing learning rate to 4.999999873689376e-05.\n",
      "Epoch 12/30\n",
      "53/53 [==============================] - 11s 196ms/step - loss: 0.0389 - accuracy: 0.9929 - val_loss: 0.7555 - val_accuracy: 0.8182\n",
      "Epoch 13/30\n",
      "53/53 [==============================] - 10s 194ms/step - loss: 0.0512 - accuracy: 0.9811 - val_loss: 0.7756 - val_accuracy: 0.8182\n",
      "Restoring model weights from the end of the best epoch.\n",
      "Epoch 00013: early stopping\n",
      "Found 40 images belonging to 6 classes.\n",
      "3/3 [==============================] - 0s 29ms/step - loss: 0.2504 - accuracy: 0.9500\n",
      "Test Loss: 0.2504\n",
      "Test Accuracy: 0.9500\n"
     ]
    },
    {
     "data": {
      "image/png": "[encoded data removed]",
      "text/plain": [
       "<Figure size 864x360 with 2 Axes>"
      ]
     },
     "metadata": {
      "needs_background": "light"
     },
     "output_type": "display_data"
    },
    {
     "data": {
      "application/vnd.jupyter.widget-view+json": {
       "model_id": "",
       "version_major": 2,
       "version_minor": 0
      },
      "text/plain": [
       "VBox(children=(Label(value='0.011 MB of 0.011 MB uploaded\\r'), FloatProgress(value=1.0, max=1.0)))"
      ]
     },
     "metadata": {},
     "output_type": "display_data"
    },
    {
     "data": {
      "text/html": [
       "<style>\n",
       "    table.wandb td:nth-child(1) { padding: 0 10px; text-align: left ; width: auto;} td:nth-child(2) {text-align: left ; width: 100%}\n",
       "    .wandb-row { display: flex; flex-direction: row; flex-wrap: wrap; justify-content: flex-start; width: 100% }\n",
       "    .wandb-col { display: flex; flex-direction: column; flex-basis: 100%; flex: 1; padding: 10px; }\n",
       "    </style>\n",
       "<div class=\"wandb-row\"><div class=\"wandb-col\"><h3>Run history:</h3><br/><table class=\"wandb\"><tr><td>accuracy</td><td>▁</td></tr><tr><td>epoch/accuracy</td><td>▁▅▆▇▇▇███████</td></tr><tr><td>epoch/epoch</td><td>▁▂▂▃▃▄▅▅▆▆▇▇█</td></tr><tr><td>epoch/learning_rate</td><td>██████████▁▁▁</td></tr><tr><td>epoch/loss</td><td>█▅▃▂▂▂▁▁▁▁▁▁▁</td></tr><tr><td>epoch/lr</td><td>███████████▁▁</td></tr><tr><td>epoch/val_accuracy</td><td>▁▄▆▇▇▇▇█▇▇███</td></tr><tr><td>epoch/val_loss</td><td>█▃▂▁▁▁▂▁▂▃▃▂▃</td></tr><tr><td>loss</td><td>▁</td></tr><tr><td>test_accuracy</td><td>▁</td></tr><tr><td>test_loss</td><td>▁</td></tr><tr><td>val_accuracy</td><td>▁</td></tr><tr><td>val_loss</td><td>▁</td></tr></table><br/></div><div class=\"wandb-col\"><h3>Run summary:</h3><br/><table class=\"wandb\"><tr><td>accuracy</td><td>0.98109</td></tr><tr><td>epoch/accuracy</td><td>0.98109</td></tr><tr><td>epoch/epoch</td><td>12</td></tr><tr><td>epoch/learning_rate</td><td>5e-05</td></tr><tr><td>epoch/loss</td><td>0.05123</td></tr><tr><td>epoch/lr</td><td>5e-05</td></tr><tr><td>epoch/val_accuracy</td><td>0.81818</td></tr><tr><td>epoch/val_loss</td><td>0.77557</td></tr><tr><td>loss</td><td>0.05123</td></tr><tr><td>test_accuracy</td><td>0.95</td></tr><tr><td>test_loss</td><td>0.25039</td></tr><tr><td>val_accuracy</td><td>0.81818</td></tr><tr><td>val_loss</td><td>0.77557</td></tr></table><br/></div></div>"
      ],
      "text/plain": [
       "<IPython.core.display.HTML object>"
      ]
     },
     "metadata": {},
     "output_type": "display_data"
    },
    {
     "data": {
      "text/html": [
       " View run <strong style=\"color:#cdcd00\">trim-sweep-1</strong> at: <a href='https://wandb.ai/aiffel-es-none/jellyfish_classification/runs/zcxmpjn5' target=\"_blank\">https://wandb.ai/aiffel-es-none/jellyfish_classification/runs/zcxmpjn5</a><br/>Synced 5 W&B file(s), 0 media file(s), 0 artifact file(s) and 0 other file(s)"
      ],
      "text/plain": [
       "<IPython.core.display.HTML object>"
      ]
     },
     "metadata": {},
     "output_type": "display_data"
    },
    {
     "data": {
      "text/html": [
       "Find logs at: <code>./wandb/run-20250228_060556-zcxmpjn5/logs</code>"
      ],
      "text/plain": [
       "<IPython.core.display.HTML object>"
      ]
     },
     "metadata": {},
     "output_type": "display_data"
    }
   ],
   "source": [
    "# Sweep을 위한 학습 함수\n",
    "def train_sweep():\n",
    "    with wandb.init():\n",
    "        config = wandb.config  # Sweep 하이퍼파라미터 가져오기\n",
    "        \n",
    "        # EfficientNetB0 모델 불러오기\n",
    "        base_model = EfficientNetB0(weights='imagenet', include_top=False, input_shape=(224, 224, 3))\n",
    "\n",
    "        # 새 Fully Connected Layer 추가\n",
    "        x = GlobalAveragePooling2D()(base_model.output)\n",
    "        x = Dense(512, activation='relu')(x)\n",
    "        x = Dropout(config.dropout_rate)(x)  # Sweep에서 dropout 값을 자동으로 변경\n",
    "        x = Dense(6, activation='softmax')(x)\n",
    "\n",
    "        # 새로운 모델 생성\n",
    "        model = Model(inputs=base_model.input, outputs=x)\n",
    "\n",
    "        # EfficientNetB0 일부 레이어만 학습 가능하도록 설정\n",
    "        for layer in base_model.layers[:-50]:  # 마지막 50개 레이어만 학습\n",
    "            layer.trainable = True\n",
    "\n",
    "        # 모델 컴파일\n",
    "        model.compile(optimizer=Adam(learning_rate=config.learning_rate),\n",
    "                      loss='categorical_crossentropy', metrics=['accuracy'])\n",
    "\n",
    "        # 데이터 증강 및 전처리\n",
    "        train_datagen = ImageDataGenerator(\n",
    "            rescale=1./255,\n",
    "            rotation_range=30,\n",
    "            width_shift_range=0.2,\n",
    "            height_shift_range=0.2,\n",
    "            shear_range=0.2,\n",
    "            zoom_range=0.2,\n",
    "            horizontal_flip=True,\n",
    "            vertical_flip=True\n",
    "        )\n",
    "        valid_test_datagen = ImageDataGenerator(rescale=1./255)\n",
    "\n",
    "        train_generator = train_datagen.flow_from_directory(\n",
    "            train_dir, target_size=(224, 224), batch_size=config.batch_size, class_mode='categorical')\n",
    "        val_generator = valid_test_datagen.flow_from_directory(\n",
    "            valid_dir, target_size=(224, 224), batch_size=config.batch_size, class_mode='categorical')\n",
    "\n",
    "        # 콜백 함수 설정\n",
    "        early_stopping = EarlyStopping(monitor='val_loss', patience=5, restore_best_weights=True,verbose=1)\n",
    "        reduce_lr = ReduceLROnPlateau(monitor='val_loss', factor=0.5, patience=3, min_lr=1e-6,verbose=1)\n",
    "\n",
    "        # 모델 학습\n",
    "        history = model.fit(\n",
    "            train_generator,\n",
    "            validation_data=val_generator,\n",
    "            epochs=config.epochs,\n",
    "            callbacks=[early_stopping, reduce_lr, WandbMetricsLogger()]\n",
    "        )\n",
    "        \n",
    "        # 🔹 W&B에 loss, accuracy 기록\n",
    "        wandb.log({\n",
    "            \"loss\": history.history[\"loss\"][-1],\n",
    "            \"val_loss\": history.history[\"val_loss\"][-1],\n",
    "            \"accuracy\": history.history[\"accuracy\"][-1],\n",
    "            \"val_accuracy\": history.history[\"val_accuracy\"][-1]\n",
    "        })\n",
    "\n",
    "        # 테스트 데이터 불러오기\n",
    "        test_generator = valid_test_datagen.flow_from_directory(\n",
    "            test_dir, target_size=(224, 224), batch_size=config.batch_size, class_mode='categorical')\n",
    "\n",
    "        # 모델 평가\n",
    "        loss, acc = model.evaluate(test_generator)\n",
    "\n",
    "        # 🔹 W&B에 테스트 결과 저장\n",
    "        wandb.log({\n",
    "            \"test_loss\": loss,\n",
    "            \"test_accuracy\": acc\n",
    "        })\n",
    "\n",
    "        print(f\"Test Loss: {loss:.4f}\")\n",
    "        print(f\"Test Accuracy: {acc:.4f}\")\n",
    "\n",
    "        # 모델 저장\n",
    "        model.save(f\"efficientnetb0_jellyfish_{wandb.run.name}.h5\")\n",
    "\n",
    "        # 학습 결과 시각화\n",
    "        plt.figure(figsize=(12, 5))\n",
    "        plt.subplot(1, 2, 1)\n",
    "        plt.plot(history.history['accuracy'], label='Train Accuracy')\n",
    "        plt.plot(history.history['val_accuracy'], label='Validation Accuracy')\n",
    "        plt.xlabel('Epochs')\n",
    "        plt.ylabel('Accuracy')\n",
    "        plt.legend()\n",
    "        plt.title('Accuracy over Epochs')\n",
    "\n",
    "        plt.subplot(1, 2, 2)\n",
    "        plt.plot(history.history['loss'], label='Train Loss')\n",
    "        plt.plot(history.history['val_loss'], label='Validation Loss')\n",
    "        plt.xlabel('Epochs')\n",
    "        plt.ylabel('Loss')\n",
    "        plt.legend()\n",
    "        plt.title('Loss over Epochs')\n",
    "\n",
    "        plt.show()\n",
    "\n",
    "        wandb.finish()  # ✅ train_sweep() 내부에서 W&B 종료\n",
    "\n",
    "# Sweep 실행\n",
    "wandb.agent(sweep_id, train_sweep, count=1)"
   ]
  }
 ],
 "metadata": {
  "kernelspec": {
   "display_name": "Python 3 (ipykernel)",
   "language": "python",
   "name": "python3"
  },
  "language_info": {
   "codemirror_mode": {
    "name": "ipython",
    "version": 3
   },
   "file_extension": ".py",
   "mimetype": "text/x-python",
   "name": "python",
   "nbconvert_exporter": "python",
   "pygments_lexer": "ipython3",
   "version": "3.9.7"
  }
 },
 "nbformat": 4,
 "nbformat_minor": 5
}
