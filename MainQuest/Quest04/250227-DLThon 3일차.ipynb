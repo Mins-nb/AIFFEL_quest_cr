{
 "cells": [
  {
   "cell_type": "markdown",
   "id": "afa857ab",
   "metadata": {},
   "source": [
    "# [DLthon] 오늘의 계획\n",
    "- 모델 최적화 (W&B 활용)\n",
    "- Data별 결과 분석"
   ]
  },
  {
   "cell_type": "markdown",
   "id": "2e2c668e",
   "metadata": {},
   "source": [
    "# 선정 모델: EfficientNetB0"
   ]
  },
  {
   "cell_type": "code",
   "execution_count": 92,
   "id": "ca87a9cb",
   "metadata": {},
   "outputs": [],
   "source": [
    "import tensorflow as tf\n",
    "import matplotlib.pyplot as plt\n",
    "from tensorflow.keras.preprocessing.image import ImageDataGenerator\n",
    "from efficientnet.tfkeras import EfficientNetB0\n",
    "from tensorflow.keras.models import Model\n",
    "from tensorflow.keras.layers import Dense, Flatten, GlobalAveragePooling2D, Dropout, BatchNormalization\n",
    "from tensorflow.keras.optimizers import Adam\n",
    "from tensorflow.keras.callbacks import ReduceLROnPlateau, EarlyStopping\n",
    "import os\n",
    "\n",
    "# W&B 설정\n",
    "import wandb\n",
    "from wandb.keras import WandbMetricsLogger"
   ]
  },
  {
   "cell_type": "code",
   "execution_count": 93,
   "id": "91d1560e",
   "metadata": {},
   "outputs": [
    {
     "name": "stdout",
     "output_type": "stream",
     "text": [
      "Requirement already satisfied: wandb in /opt/conda/lib/python3.9/site-packages (0.16.0)\n",
      "Requirement already satisfied: requests<3,>=2.0.0 in /opt/conda/lib/python3.9/site-packages (from wandb) (2.26.0)\n",
      "Requirement already satisfied: Click!=8.0.0,>=7.1 in /opt/conda/lib/python3.9/site-packages (from wandb) (8.0.3)\n",
      "Requirement already satisfied: GitPython!=3.1.29,>=1.0.0 in /opt/conda/lib/python3.9/site-packages (from wandb) (3.1.44)\n",
      "Requirement already satisfied: sentry-sdk>=1.0.0 in /opt/conda/lib/python3.9/site-packages (from wandb) (2.22.0)\n",
      "Requirement already satisfied: PyYAML in /opt/conda/lib/python3.9/site-packages (from wandb) (6.0)\n",
      "Requirement already satisfied: psutil>=5.0.0 in /opt/conda/lib/python3.9/site-packages (from wandb) (5.8.0)\n",
      "Requirement already satisfied: appdirs>=1.4.3 in /opt/conda/lib/python3.9/site-packages (from wandb) (1.4.4)\n",
      "Requirement already satisfied: typing-extensions in /opt/conda/lib/python3.9/site-packages (from wandb) (4.0.1)\n",
      "Requirement already satisfied: setuptools in /opt/conda/lib/python3.9/site-packages (from wandb) (59.4.0)\n",
      "Requirement already satisfied: setproctitle in /opt/conda/lib/python3.9/site-packages (from wandb) (1.3.5)\n",
      "Requirement already satisfied: protobuf!=4.21.0,<5,>=3.15.0 in /opt/conda/lib/python3.9/site-packages (from wandb) (3.19.1)\n",
      "Requirement already satisfied: docker-pycreds>=0.4.0 in /opt/conda/lib/python3.9/site-packages (from wandb) (0.4.0)\n",
      "Requirement already satisfied: six>=1.4.0 in /opt/conda/lib/python3.9/site-packages (from docker-pycreds>=0.4.0->wandb) (1.16.0)\n",
      "Requirement already satisfied: gitdb<5,>=4.0.1 in /opt/conda/lib/python3.9/site-packages (from GitPython!=3.1.29,>=1.0.0->wandb) (4.0.12)\n",
      "Requirement already satisfied: certifi>=2017.4.17 in /opt/conda/lib/python3.9/site-packages (from requests<3,>=2.0.0->wandb) (2021.10.8)\n",
      "Requirement already satisfied: urllib3<1.27,>=1.21.1 in /opt/conda/lib/python3.9/site-packages (from requests<3,>=2.0.0->wandb) (1.26.20)\n",
      "Requirement already satisfied: charset-normalizer~=2.0.0 in /opt/conda/lib/python3.9/site-packages (from requests<3,>=2.0.0->wandb) (2.0.8)\n",
      "Requirement already satisfied: idna<4,>=2.5 in /opt/conda/lib/python3.9/site-packages (from requests<3,>=2.0.0->wandb) (2.10)\n",
      "Requirement already satisfied: smmap<6,>=3.0.1 in /opt/conda/lib/python3.9/site-packages (from gitdb<5,>=4.0.1->GitPython!=3.1.29,>=1.0.0->wandb) (5.0.2)\n",
      "\u001b[33mWARNING: Running pip as the 'root' user can result in broken permissions and conflicting behaviour with the system package manager. It is recommended to use a virtual environment instead: https://pip.pypa.io/warnings/venv\u001b[0m\n"
     ]
    }
   ],
   "source": [
    "!pip install wandb"
   ]
  },
  {
   "cell_type": "code",
   "execution_count": 94,
   "id": "c597dcfe",
   "metadata": {},
   "outputs": [
    {
     "name": "stderr",
     "output_type": "stream",
     "text": [
      "\u001b[34m\u001b[1mwandb\u001b[0m: \u001b[33mWARNING\u001b[0m If you're specifying your api key in code, ensure this code is not shared publicly.\n",
      "\u001b[34m\u001b[1mwandb\u001b[0m: \u001b[33mWARNING\u001b[0m Consider setting the WANDB_API_KEY environment variable, or running `wandb login` from the command line.\n",
      "\u001b[34m\u001b[1mwandb\u001b[0m: Appending key for api.wandb.ai to your netrc file: /aiffel/.netrc\n"
     ]
    },
    {
     "data": {
      "text/plain": [
       "True"
      ]
     },
     "execution_count": 94,
     "metadata": {},
     "output_type": "execute_result"
    }
   ],
   "source": [
    "# 키 파일 경로\n",
    "key_file_path = \"./wandb/wandb_key.txt\"\n",
    "\n",
    "# 파일에서 W&B 키 불러오기\n",
    "with open(key_file_path, \"r\") as f:\n",
    "    YOUR_WANDB_KEY = f.read().strip()  # 공백 제거\n",
    "\n",
    "# W&B 로그인\n",
    "wandb.login(key=YOUR_WANDB_KEY)"
   ]
  },
  {
   "cell_type": "code",
   "execution_count": 95,
   "id": "231f345f",
   "metadata": {},
   "outputs": [],
   "source": [
    "# 데이터 경로 설정\n",
    "base_dir = \"./Train_Test_Valid_preprocessed\"\n",
    "train_dir = os.path.join(base_dir, \"Train_Cleaned\")\n",
    "valid_dir = os.path.join(base_dir, \"valid\")\n",
    "test_dir = os.path.join(base_dir, \"test\")"
   ]
  },
  {
   "cell_type": "code",
   "execution_count": 96,
   "id": "2d0419d2",
   "metadata": {},
   "outputs": [],
   "source": [
    "# W&B Sweep 설정 (하이퍼파라미터 검색)\n",
    "sweep_config = {\n",
    "    \"method\": \"random\",\n",
    "    \"metric\": {\"name\": \"val_accuracy\", \"goal\": \"maximize\"},\n",
    "    \"parameters\": {\n",
    "        \"learning_rate\": {\"values\": [1e-5, 5e-5, 1e-4]},\n",
    "        \"batch_size\": {\"values\": [16, 32, 64]},\n",
    "        \"dropout_rate\": {\"values\": [0.2, 0.3, 0.5]},\n",
    "        \"epochs\": {\"values\": [10, 20, 30]},\n",
    "    },\n",
    "}"
   ]
  },
  {
   "cell_type": "markdown",
   "id": "7bb018dc",
   "metadata": {},
   "source": [
    "## 1. Dense 256"
   ]
  },
  {
   "cell_type": "markdown",
   "id": "b9097be5",
   "metadata": {},
   "source": [
    "### 1-1. sweep ID: ruz6xr87"
   ]
  },
  {
   "cell_type": "code",
   "execution_count": 114,
   "id": "e9700d79",
   "metadata": {},
   "outputs": [
    {
     "name": "stdout",
     "output_type": "stream",
     "text": [
      "📌 최적 모델 이름: valiant-sweep-4\n",
      "\n",
      "✅ 최적의 하이퍼파라미터:\n",
      " {'epochs': 20, 'batch_size': 32, 'dropout_rate': 0.2, 'learning_rate': 5e-05}\n",
      "\n",
      "✅ 최적의 모델 성능:\n",
      "Loss: 0.05427800118923187\n",
      "Validation Loss: 0.7077760696411133\n",
      "Accuracy: 99.05%\n",
      "Validation Accuracy: 82.05%\n"
     ]
    }
   ],
   "source": [
    "# Sweep 불러오기\n",
    "sweep_id = \"ruz6xr87\"  # Sweep ID\n",
    "sweep = api.sweep(f\"{entity_name}/{project_name}/{sweep_id}\")\n",
    "\n",
    "# 최적의 실험 찾기 (validation accuracy 기준)\n",
    "best_run = max(sweep.runs, key=lambda run: run.summary.get(\"val_accuracy\", 0))\n",
    "\n",
    "# ✅ 최적의 모델 이름\n",
    "print(f\"📌 최적 모델 이름: {best_run.name}\")\n",
    "\n",
    "# ✅ 최적의 하이퍼파라미터 출력\n",
    "best_params = best_run.config\n",
    "print(f\"\\n✅ 최적의 하이퍼파라미터:\\n {best_params}\")\n",
    "\n",
    "# ✅ 최적의 모델 성능 출력 (loss, accuracy 등)\n",
    "best_metrics = best_run.summary\n",
    "print(\"\\n✅ 최적의 모델 성능:\")\n",
    "\n",
    "# Loss 값은 그대로 출력\n",
    "print(f\"Loss: {best_metrics.get('loss', 'N/A')}\")\n",
    "print(f\"Validation Loss: {best_metrics.get('val_loss', 'N/A')}\")\n",
    "\n",
    "# Accuracy 값을 퍼센트로 변환\n",
    "accuracy = best_metrics.get('accuracy', None)\n",
    "val_accuracy = best_metrics.get('val_accuracy', None)\n",
    "\n",
    "if accuracy is not None:\n",
    "    print(f\"Accuracy: {accuracy * 100:.2f}%\")\n",
    "else:\n",
    "    print(\"Accuracy: N/A\")\n",
    "\n",
    "if val_accuracy is not None:\n",
    "    print(f\"Validation Accuracy: {val_accuracy * 100:.2f}%\")\n",
    "else:\n",
    "    print(\"Validation Accuracy: N/A\")"
   ]
  },
  {
   "cell_type": "markdown",
   "id": "80e2ea5c",
   "metadata": {},
   "source": [
    "### 1-2. sweep ID: 8twrl8wu"
   ]
  },
  {
   "cell_type": "code",
   "execution_count": 97,
   "id": "066b74b5",
   "metadata": {},
   "outputs": [
    {
     "name": "stdout",
     "output_type": "stream",
     "text": [
      "Create sweep with ID: 8twrl8wu\n",
      "Sweep URL: https://wandb.ai/aiffel-es-none/jellyfish-classification/sweeps/8twrl8wu\n"
     ]
    }
   ],
   "source": [
    "# Sweep 생성\n",
    "sweep_id = wandb.sweep(sweep_config, project=\"jellyfish-classification\")"
   ]
  },
  {
   "cell_type": "code",
   "execution_count": 98,
   "id": "356cfb07",
   "metadata": {
    "scrolled": true
   },
   "outputs": [
    {
     "name": "stderr",
     "output_type": "stream",
     "text": [
      "\u001b[34m\u001b[1mwandb\u001b[0m: Sweep Agent: Waiting for job.\n",
      "502 response executing GraphQL.\n",
      "\n",
      "<html><head>\n",
      "<meta http-equiv=\"content-type\" content=\"text/html;charset=utf-8\">\n",
      "<title>502 Server Error</title>\n",
      "</head>\n",
      "<body text=#000000 bgcolor=#ffffff>\n",
      "<h1>Error: Server Error</h1>\n",
      "<h2>The server encountered a temporary error and could not complete your request.<p>Please try again in 30 seconds.</h2>\n",
      "<h2></h2>\n",
      "</body></html>\n",
      "\n",
      "\u001b[34m\u001b[1mwandb\u001b[0m: Job received.\n",
      "\u001b[34m\u001b[1mwandb\u001b[0m: Agent Starting Run: d66x7tx7 with config:\n",
      "\u001b[34m\u001b[1mwandb\u001b[0m: \tbatch_size: 64\n",
      "\u001b[34m\u001b[1mwandb\u001b[0m: \tdropout_rate: 0.5\n",
      "\u001b[34m\u001b[1mwandb\u001b[0m: \tepochs: 20\n",
      "\u001b[34m\u001b[1mwandb\u001b[0m: \tlearning_rate: 5e-05\n"
     ]
    },
    {
     "data": {
      "text/html": [
       "wandb version 0.19.7 is available!  To upgrade, please run:\n",
       " $ pip install wandb --upgrade"
      ],
      "text/plain": [
       "<IPython.core.display.HTML object>"
      ]
     },
     "metadata": {},
     "output_type": "display_data"
    },
    {
     "data": {
      "text/html": [
       "Tracking run with wandb version 0.16.0"
      ],
      "text/plain": [
       "<IPython.core.display.HTML object>"
      ]
     },
     "metadata": {},
     "output_type": "display_data"
    },
    {
     "data": {
      "text/html": [
       "Run data is saved locally in <code>/aiffel/aiffel/jellyfish/wandb/run-20250227_032103-d66x7tx7</code>"
      ],
      "text/plain": [
       "<IPython.core.display.HTML object>"
      ]
     },
     "metadata": {},
     "output_type": "display_data"
    },
    {
     "data": {
      "text/html": [
       "Syncing run <strong><a href='https://wandb.ai/aiffel-es-none/jellyfish-classification/runs/d66x7tx7' target=\"_blank\">comic-sweep-1</a></strong> to <a href='https://wandb.ai/aiffel-es-none/jellyfish-classification' target=\"_blank\">Weights & Biases</a> (<a href='https://wandb.me/run' target=\"_blank\">docs</a>)<br/>Sweep page: <a href='https://wandb.ai/aiffel-es-none/jellyfish-classification/sweeps/8twrl8wu' target=\"_blank\">https://wandb.ai/aiffel-es-none/jellyfish-classification/sweeps/8twrl8wu</a>"
      ],
      "text/plain": [
       "<IPython.core.display.HTML object>"
      ]
     },
     "metadata": {},
     "output_type": "display_data"
    },
    {
     "data": {
      "text/html": [
       " View project at <a href='https://wandb.ai/aiffel-es-none/jellyfish-classification' target=\"_blank\">https://wandb.ai/aiffel-es-none/jellyfish-classification</a>"
      ],
      "text/plain": [
       "<IPython.core.display.HTML object>"
      ]
     },
     "metadata": {},
     "output_type": "display_data"
    },
    {
     "data": {
      "text/html": [
       " View sweep at <a href='https://wandb.ai/aiffel-es-none/jellyfish-classification/sweeps/8twrl8wu' target=\"_blank\">https://wandb.ai/aiffel-es-none/jellyfish-classification/sweeps/8twrl8wu</a>"
      ],
      "text/plain": [
       "<IPython.core.display.HTML object>"
      ]
     },
     "metadata": {},
     "output_type": "display_data"
    },
    {
     "data": {
      "text/html": [
       " View run at <a href='https://wandb.ai/aiffel-es-none/jellyfish-classification/runs/d66x7tx7' target=\"_blank\">https://wandb.ai/aiffel-es-none/jellyfish-classification/runs/d66x7tx7</a>"
      ],
      "text/plain": [
       "<IPython.core.display.HTML object>"
      ]
     },
     "metadata": {},
     "output_type": "display_data"
    },
    {
     "name": "stdout",
     "output_type": "stream",
     "text": [
      "Found 846 images belonging to 6 classes.\n",
      "Found 39 images belonging to 6 classes.\n",
      "Epoch 1/20\n",
      " 6/14 [===========>..................] - ETA: 6s - loss: 1.8894 - accuracy: 0.1536WARNING:tensorflow:Callback method `on_train_batch_end` is slow compared to the batch time (batch time: 0.3805s vs `on_train_batch_end` time: 0.4229s). Check your callbacks.\n",
      "14/14 [==============================] - 21s 950ms/step - loss: 1.8083 - accuracy: 0.2104 - val_loss: 1.8050 - val_accuracy: 0.0769\n",
      "Epoch 2/20\n",
      "14/14 [==============================] - 12s 812ms/step - loss: 1.5942 - accuracy: 0.3759 - val_loss: 1.6843 - val_accuracy: 0.2308\n",
      "Epoch 3/20\n",
      "14/14 [==============================] - 12s 799ms/step - loss: 1.4023 - accuracy: 0.5366 - val_loss: 1.5629 - val_accuracy: 0.4103\n",
      "Epoch 4/20\n",
      "14/14 [==============================] - 12s 823ms/step - loss: 1.2407 - accuracy: 0.6336 - val_loss: 1.4368 - val_accuracy: 0.5128\n",
      "Epoch 5/20\n",
      "14/14 [==============================] - 12s 793ms/step - loss: 1.0797 - accuracy: 0.6986 - val_loss: 1.2989 - val_accuracy: 0.6410\n",
      "Epoch 6/20\n",
      "14/14 [==============================] - 12s 811ms/step - loss: 0.9448 - accuracy: 0.7671 - val_loss: 1.1831 - val_accuracy: 0.6410\n",
      "Epoch 7/20\n",
      "14/14 [==============================] - 12s 805ms/step - loss: 0.7836 - accuracy: 0.8144 - val_loss: 1.0774 - val_accuracy: 0.6667\n",
      "Epoch 8/20\n",
      "14/14 [==============================] - 12s 813ms/step - loss: 0.6476 - accuracy: 0.8452 - val_loss: 0.9878 - val_accuracy: 0.6667\n",
      "Epoch 9/20\n",
      "14/14 [==============================] - 12s 810ms/step - loss: 0.5596 - accuracy: 0.8723 - val_loss: 0.9247 - val_accuracy: 0.6410\n",
      "Epoch 10/20\n",
      "14/14 [==============================] - 11s 771ms/step - loss: 0.4760 - accuracy: 0.8853 - val_loss: 0.8850 - val_accuracy: 0.6667\n",
      "Epoch 11/20\n",
      "14/14 [==============================] - 12s 796ms/step - loss: 0.4074 - accuracy: 0.9113 - val_loss: 0.8704 - val_accuracy: 0.6923\n",
      "Epoch 12/20\n",
      "14/14 [==============================] - 12s 799ms/step - loss: 0.3649 - accuracy: 0.9054 - val_loss: 0.8504 - val_accuracy: 0.6923\n",
      "Epoch 13/20\n",
      "14/14 [==============================] - 12s 803ms/step - loss: 0.3145 - accuracy: 0.9196 - val_loss: 0.8386 - val_accuracy: 0.7436\n",
      "Epoch 14/20\n",
      "14/14 [==============================] - 12s 804ms/step - loss: 0.2639 - accuracy: 0.9338 - val_loss: 0.8277 - val_accuracy: 0.7436\n",
      "Epoch 15/20\n",
      "14/14 [==============================] - 12s 812ms/step - loss: 0.2557 - accuracy: 0.9350 - val_loss: 0.8155 - val_accuracy: 0.7436\n",
      "Epoch 16/20\n",
      "14/14 [==============================] - 12s 799ms/step - loss: 0.2208 - accuracy: 0.9444 - val_loss: 0.8104 - val_accuracy: 0.7436\n",
      "Epoch 17/20\n",
      "14/14 [==============================] - 12s 804ms/step - loss: 0.1985 - accuracy: 0.9492 - val_loss: 0.7923 - val_accuracy: 0.7436\n",
      "Epoch 18/20\n",
      "14/14 [==============================] - 12s 805ms/step - loss: 0.1724 - accuracy: 0.9598 - val_loss: 0.7789 - val_accuracy: 0.7436\n",
      "Epoch 19/20\n",
      "14/14 [==============================] - 12s 808ms/step - loss: 0.1520 - accuracy: 0.9693 - val_loss: 0.7692 - val_accuracy: 0.7436\n",
      "Epoch 20/20\n",
      "14/14 [==============================] - 12s 807ms/step - loss: 0.1341 - accuracy: 0.9657 - val_loss: 0.7600 - val_accuracy: 0.7692\n",
      "Found 40 images belonging to 6 classes.\n",
      "1/1 [==============================] - 0s 206ms/step - loss: 0.2832 - accuracy: 0.9000\n",
      "Test Loss: 0.2832\n",
      "Test Accuracy: 0.9000\n"
     ]
    },
    {
     "data": {
      "image/png": "[encoded data removed]",
      "text/plain": [
       "<Figure size 864x360 with 2 Axes>"
      ]
     },
     "metadata": {
      "needs_background": "light"
     },
     "output_type": "display_data"
    },
    {
     "data": {
      "application/vnd.jupyter.widget-view+json": {
       "model_id": "",
       "version_major": 2,
       "version_minor": 0
      },
      "text/plain": [
       "VBox(children=(Label(value='0.001 MB of 0.006 MB uploaded\\r'), FloatProgress(value=0.22152788626777067, max=1.…"
      ]
     },
     "metadata": {},
     "output_type": "display_data"
    },
    {
     "data": {
      "text/html": [
       "<style>\n",
       "    table.wandb td:nth-child(1) { padding: 0 10px; text-align: left ; width: auto;} td:nth-child(2) {text-align: left ; width: 100%}\n",
       "    .wandb-row { display: flex; flex-direction: row; flex-wrap: wrap; justify-content: flex-start; width: 100% }\n",
       "    .wandb-col { display: flex; flex-direction: column; flex-basis: 100%; flex: 1; padding: 10px; }\n",
       "    </style>\n",
       "<div class=\"wandb-row\"><div class=\"wandb-col\"><h3>Run history:</h3><br/><table class=\"wandb\"><tr><td>accuracy</td><td>▁</td></tr><tr><td>epoch/accuracy</td><td>▁▃▄▅▆▆▇▇▇▇▇▇████████</td></tr><tr><td>epoch/epoch</td><td>▁▁▂▂▂▃▃▄▄▄▅▅▅▆▆▇▇▇██</td></tr><tr><td>epoch/learning_rate</td><td>▁▁▁▁▁▁▁▁▁▁▁▁▁▁▁▁▁▁▁▁</td></tr><tr><td>epoch/loss</td><td>█▇▆▆▅▄▄▃▃▂▂▂▂▂▂▁▁▁▁▁</td></tr><tr><td>epoch/lr</td><td>▁▁▁▁▁▁▁▁▁▁▁▁▁▁▁▁▁▁▁▁</td></tr><tr><td>epoch/val_accuracy</td><td>▁▃▄▅▇▇▇▇▇▇▇▇████████</td></tr><tr><td>epoch/val_loss</td><td>█▇▆▆▅▄▃▃▂▂▂▂▂▁▁▁▁▁▁▁</td></tr><tr><td>loss</td><td>▁</td></tr><tr><td>test_accuracy</td><td>▁</td></tr><tr><td>test_loss</td><td>▁</td></tr><tr><td>val_accuracy</td><td>▁</td></tr><tr><td>val_loss</td><td>▁</td></tr></table><br/></div><div class=\"wandb-col\"><h3>Run summary:</h3><br/><table class=\"wandb\"><tr><td>accuracy</td><td>0.96572</td></tr><tr><td>epoch/accuracy</td><td>0.96572</td></tr><tr><td>epoch/epoch</td><td>19</td></tr><tr><td>epoch/learning_rate</td><td>5e-05</td></tr><tr><td>epoch/loss</td><td>0.13412</td></tr><tr><td>epoch/lr</td><td>5e-05</td></tr><tr><td>epoch/val_accuracy</td><td>0.76923</td></tr><tr><td>epoch/val_loss</td><td>0.75997</td></tr><tr><td>loss</td><td>0.13412</td></tr><tr><td>test_accuracy</td><td>0.9</td></tr><tr><td>test_loss</td><td>0.28317</td></tr><tr><td>val_accuracy</td><td>0.76923</td></tr><tr><td>val_loss</td><td>0.75997</td></tr></table><br/></div></div>"
      ],
      "text/plain": [
       "<IPython.core.display.HTML object>"
      ]
     },
     "metadata": {},
     "output_type": "display_data"
    },
    {
     "data": {
      "text/html": [
       " View run <strong style=\"color:#cdcd00\">comic-sweep-1</strong> at: <a href='https://wandb.ai/aiffel-es-none/jellyfish-classification/runs/d66x7tx7' target=\"_blank\">https://wandb.ai/aiffel-es-none/jellyfish-classification/runs/d66x7tx7</a><br/>Synced 5 W&B file(s), 0 media file(s), 0 artifact file(s) and 0 other file(s)"
      ],
      "text/plain": [
       "<IPython.core.display.HTML object>"
      ]
     },
     "metadata": {},
     "output_type": "display_data"
    },
    {
     "data": {
      "text/html": [
       "Find logs at: <code>./wandb/run-20250227_032103-d66x7tx7/logs</code>"
      ],
      "text/plain": [
       "<IPython.core.display.HTML object>"
      ]
     },
     "metadata": {},
     "output_type": "display_data"
    },
    {
     "name": "stderr",
     "output_type": "stream",
     "text": [
      "\u001b[34m\u001b[1mwandb\u001b[0m: Agent Starting Run: 1gkqgoqn with config:\n",
      "\u001b[34m\u001b[1mwandb\u001b[0m: \tbatch_size: 16\n",
      "\u001b[34m\u001b[1mwandb\u001b[0m: \tdropout_rate: 0.5\n",
      "\u001b[34m\u001b[1mwandb\u001b[0m: \tepochs: 30\n",
      "\u001b[34m\u001b[1mwandb\u001b[0m: \tlearning_rate: 0.0001\n"
     ]
    },
    {
     "data": {
      "text/html": [
       "wandb version 0.19.7 is available!  To upgrade, please run:\n",
       " $ pip install wandb --upgrade"
      ],
      "text/plain": [
       "<IPython.core.display.HTML object>"
      ]
     },
     "metadata": {},
     "output_type": "display_data"
    },
    {
     "data": {
      "text/html": [
       "Tracking run with wandb version 0.16.0"
      ],
      "text/plain": [
       "<IPython.core.display.HTML object>"
      ]
     },
     "metadata": {},
     "output_type": "display_data"
    },
    {
     "data": {
      "text/html": [
       "Run data is saved locally in <code>/aiffel/aiffel/jellyfish/wandb/run-20250227_032526-1gkqgoqn</code>"
      ],
      "text/plain": [
       "<IPython.core.display.HTML object>"
      ]
     },
     "metadata": {},
     "output_type": "display_data"
    },
    {
     "data": {
      "text/html": [
       "Syncing run <strong><a href='https://wandb.ai/aiffel-es-none/jellyfish-classification/runs/1gkqgoqn' target=\"_blank\">fanciful-sweep-2</a></strong> to <a href='https://wandb.ai/aiffel-es-none/jellyfish-classification' target=\"_blank\">Weights & Biases</a> (<a href='https://wandb.me/run' target=\"_blank\">docs</a>)<br/>Sweep page: <a href='https://wandb.ai/aiffel-es-none/jellyfish-classification/sweeps/8twrl8wu' target=\"_blank\">https://wandb.ai/aiffel-es-none/jellyfish-classification/sweeps/8twrl8wu</a>"
      ],
      "text/plain": [
       "<IPython.core.display.HTML object>"
      ]
     },
     "metadata": {},
     "output_type": "display_data"
    },
    {
     "data": {
      "text/html": [
       " View project at <a href='https://wandb.ai/aiffel-es-none/jellyfish-classification' target=\"_blank\">https://wandb.ai/aiffel-es-none/jellyfish-classification</a>"
      ],
      "text/plain": [
       "<IPython.core.display.HTML object>"
      ]
     },
     "metadata": {},
     "output_type": "display_data"
    },
    {
     "data": {
      "text/html": [
       " View sweep at <a href='https://wandb.ai/aiffel-es-none/jellyfish-classification/sweeps/8twrl8wu' target=\"_blank\">https://wandb.ai/aiffel-es-none/jellyfish-classification/sweeps/8twrl8wu</a>"
      ],
      "text/plain": [
       "<IPython.core.display.HTML object>"
      ]
     },
     "metadata": {},
     "output_type": "display_data"
    },
    {
     "data": {
      "text/html": [
       " View run at <a href='https://wandb.ai/aiffel-es-none/jellyfish-classification/runs/1gkqgoqn' target=\"_blank\">https://wandb.ai/aiffel-es-none/jellyfish-classification/runs/1gkqgoqn</a>"
      ],
      "text/plain": [
       "<IPython.core.display.HTML object>"
      ]
     },
     "metadata": {},
     "output_type": "display_data"
    },
    {
     "name": "stdout",
     "output_type": "stream",
     "text": [
      "Found 846 images belonging to 6 classes.\n",
      "Found 39 images belonging to 6 classes.\n",
      "Epoch 1/30\n",
      "53/53 [==============================] - 20s 230ms/step - loss: 1.5242 - accuracy: 0.4161 - val_loss: 1.3420 - val_accuracy: 0.6410\n",
      "Epoch 2/30\n",
      "53/53 [==============================] - 11s 205ms/step - loss: 0.8817 - accuracy: 0.7530 - val_loss: 0.8716 - val_accuracy: 0.7692\n",
      "Epoch 3/30\n",
      "53/53 [==============================] - 11s 212ms/step - loss: 0.5360 - accuracy: 0.8392 - val_loss: 0.7953 - val_accuracy: 0.6667\n",
      "Epoch 4/30\n",
      "53/53 [==============================] - 11s 207ms/step - loss: 0.3495 - accuracy: 0.8960 - val_loss: 0.7924 - val_accuracy: 0.6667\n",
      "Epoch 5/30\n",
      "53/53 [==============================] - 11s 204ms/step - loss: 0.2364 - accuracy: 0.9255 - val_loss: 0.7148 - val_accuracy: 0.7692\n",
      "Epoch 6/30\n",
      "53/53 [==============================] - 11s 203ms/step - loss: 0.2101 - accuracy: 0.9362 - val_loss: 0.6349 - val_accuracy: 0.7436\n",
      "Epoch 7/30\n",
      "53/53 [==============================] - 11s 208ms/step - loss: 0.1426 - accuracy: 0.9622 - val_loss: 0.6248 - val_accuracy: 0.7949\n",
      "Epoch 8/30\n",
      "53/53 [==============================] - 11s 205ms/step - loss: 0.1177 - accuracy: 0.9704 - val_loss: 0.6565 - val_accuracy: 0.8205\n",
      "Epoch 9/30\n",
      "53/53 [==============================] - 11s 204ms/step - loss: 0.0749 - accuracy: 0.9787 - val_loss: 0.7189 - val_accuracy: 0.8205\n",
      "Epoch 10/30\n",
      "53/53 [==============================] - 11s 203ms/step - loss: 0.0866 - accuracy: 0.9764 - val_loss: 0.7829 - val_accuracy: 0.7949\n",
      "Epoch 11/30\n",
      "53/53 [==============================] - 11s 206ms/step - loss: 0.0561 - accuracy: 0.9882 - val_loss: 0.7737 - val_accuracy: 0.7949\n",
      "Epoch 12/30\n",
      "53/53 [==============================] - 11s 208ms/step - loss: 0.0982 - accuracy: 0.9752 - val_loss: 0.7385 - val_accuracy: 0.7949\n",
      "Found 40 images belonging to 6 classes.\n",
      "3/3 [==============================] - 0s 29ms/step - loss: 0.2450 - accuracy: 0.9500\n",
      "Test Loss: 0.2450\n",
      "Test Accuracy: 0.9500\n"
     ]
    },
    {
     "data": {
      "image/png": "[encoded data removed]",
      "text/plain": [
       "<Figure size 864x360 with 2 Axes>"
      ]
     },
     "metadata": {
      "needs_background": "light"
     },
     "output_type": "display_data"
    },
    {
     "data": {
      "application/vnd.jupyter.widget-view+json": {
       "model_id": "",
       "version_major": 2,
       "version_minor": 0
      },
      "text/plain": [
       "VBox(children=(Label(value='0.001 MB of 0.001 MB uploaded\\r'), FloatProgress(value=1.0, max=1.0)))"
      ]
     },
     "metadata": {},
     "output_type": "display_data"
    },
    {
     "data": {
      "text/html": [
       "<style>\n",
       "    table.wandb td:nth-child(1) { padding: 0 10px; text-align: left ; width: auto;} td:nth-child(2) {text-align: left ; width: 100%}\n",
       "    .wandb-row { display: flex; flex-direction: row; flex-wrap: wrap; justify-content: flex-start; width: 100% }\n",
       "    .wandb-col { display: flex; flex-direction: column; flex-basis: 100%; flex: 1; padding: 10px; }\n",
       "    </style>\n",
       "<div class=\"wandb-row\"><div class=\"wandb-col\"><h3>Run history:</h3><br/><table class=\"wandb\"><tr><td>accuracy</td><td>▁</td></tr><tr><td>epoch/accuracy</td><td>▁▅▆▇▇▇██████</td></tr><tr><td>epoch/epoch</td><td>▁▂▂▃▄▄▅▅▆▇▇█</td></tr><tr><td>epoch/learning_rate</td><td>█████████▁▁▁</td></tr><tr><td>epoch/loss</td><td>█▅▃▂▂▂▁▁▁▁▁▁</td></tr><tr><td>epoch/lr</td><td>██████████▁▁</td></tr><tr><td>epoch/val_accuracy</td><td>▁▆▂▂▆▅▇██▇▇▇</td></tr><tr><td>epoch/val_loss</td><td>█▃▃▃▂▁▁▁▂▃▂▂</td></tr><tr><td>loss</td><td>▁</td></tr><tr><td>test_accuracy</td><td>▁</td></tr><tr><td>test_loss</td><td>▁</td></tr><tr><td>val_accuracy</td><td>▁</td></tr><tr><td>val_loss</td><td>▁</td></tr></table><br/></div><div class=\"wandb-col\"><h3>Run summary:</h3><br/><table class=\"wandb\"><tr><td>accuracy</td><td>0.97518</td></tr><tr><td>epoch/accuracy</td><td>0.97518</td></tr><tr><td>epoch/epoch</td><td>11</td></tr><tr><td>epoch/learning_rate</td><td>2e-05</td></tr><tr><td>epoch/loss</td><td>0.09815</td></tr><tr><td>epoch/lr</td><td>2e-05</td></tr><tr><td>epoch/val_accuracy</td><td>0.79487</td></tr><tr><td>epoch/val_loss</td><td>0.73846</td></tr><tr><td>loss</td><td>0.09815</td></tr><tr><td>test_accuracy</td><td>0.95</td></tr><tr><td>test_loss</td><td>0.24501</td></tr><tr><td>val_accuracy</td><td>0.79487</td></tr><tr><td>val_loss</td><td>0.73846</td></tr></table><br/></div></div>"
      ],
      "text/plain": [
       "<IPython.core.display.HTML object>"
      ]
     },
     "metadata": {},
     "output_type": "display_data"
    },
    {
     "data": {
      "text/html": [
       " View run <strong style=\"color:#cdcd00\">fanciful-sweep-2</strong> at: <a href='https://wandb.ai/aiffel-es-none/jellyfish-classification/runs/1gkqgoqn' target=\"_blank\">https://wandb.ai/aiffel-es-none/jellyfish-classification/runs/1gkqgoqn</a><br/>Synced 5 W&B file(s), 0 media file(s), 0 artifact file(s) and 0 other file(s)"
      ],
      "text/plain": [
       "<IPython.core.display.HTML object>"
      ]
     },
     "metadata": {},
     "output_type": "display_data"
    },
    {
     "data": {
      "text/html": [
       "Find logs at: <code>./wandb/run-20250227_032526-1gkqgoqn/logs</code>"
      ],
      "text/plain": [
       "<IPython.core.display.HTML object>"
      ]
     },
     "metadata": {},
     "output_type": "display_data"
    },
    {
     "name": "stderr",
     "output_type": "stream",
     "text": [
      "\u001b[34m\u001b[1mwandb\u001b[0m: Agent Starting Run: wo07fbga with config:\n",
      "\u001b[34m\u001b[1mwandb\u001b[0m: \tbatch_size: 16\n",
      "\u001b[34m\u001b[1mwandb\u001b[0m: \tdropout_rate: 0.5\n",
      "\u001b[34m\u001b[1mwandb\u001b[0m: \tepochs: 10\n",
      "\u001b[34m\u001b[1mwandb\u001b[0m: \tlearning_rate: 1e-05\n"
     ]
    },
    {
     "data": {
      "text/html": [
       "wandb version 0.19.7 is available!  To upgrade, please run:\n",
       " $ pip install wandb --upgrade"
      ],
      "text/plain": [
       "<IPython.core.display.HTML object>"
      ]
     },
     "metadata": {},
     "output_type": "display_data"
    },
    {
     "data": {
      "text/html": [
       "Tracking run with wandb version 0.16.0"
      ],
      "text/plain": [
       "<IPython.core.display.HTML object>"
      ]
     },
     "metadata": {},
     "output_type": "display_data"
    },
    {
     "data": {
      "text/html": [
       "Run data is saved locally in <code>/aiffel/aiffel/jellyfish/wandb/run-20250227_032804-wo07fbga</code>"
      ],
      "text/plain": [
       "<IPython.core.display.HTML object>"
      ]
     },
     "metadata": {},
     "output_type": "display_data"
    },
    {
     "data": {
      "text/html": [
       "Syncing run <strong><a href='https://wandb.ai/aiffel-es-none/jellyfish-classification/runs/wo07fbga' target=\"_blank\">fresh-sweep-3</a></strong> to <a href='https://wandb.ai/aiffel-es-none/jellyfish-classification' target=\"_blank\">Weights & Biases</a> (<a href='https://wandb.me/run' target=\"_blank\">docs</a>)<br/>Sweep page: <a href='https://wandb.ai/aiffel-es-none/jellyfish-classification/sweeps/8twrl8wu' target=\"_blank\">https://wandb.ai/aiffel-es-none/jellyfish-classification/sweeps/8twrl8wu</a>"
      ],
      "text/plain": [
       "<IPython.core.display.HTML object>"
      ]
     },
     "metadata": {},
     "output_type": "display_data"
    },
    {
     "data": {
      "text/html": [
       " View project at <a href='https://wandb.ai/aiffel-es-none/jellyfish-classification' target=\"_blank\">https://wandb.ai/aiffel-es-none/jellyfish-classification</a>"
      ],
      "text/plain": [
       "<IPython.core.display.HTML object>"
      ]
     },
     "metadata": {},
     "output_type": "display_data"
    },
    {
     "data": {
      "text/html": [
       " View sweep at <a href='https://wandb.ai/aiffel-es-none/jellyfish-classification/sweeps/8twrl8wu' target=\"_blank\">https://wandb.ai/aiffel-es-none/jellyfish-classification/sweeps/8twrl8wu</a>"
      ],
      "text/plain": [
       "<IPython.core.display.HTML object>"
      ]
     },
     "metadata": {},
     "output_type": "display_data"
    },
    {
     "data": {
      "text/html": [
       " View run at <a href='https://wandb.ai/aiffel-es-none/jellyfish-classification/runs/wo07fbga' target=\"_blank\">https://wandb.ai/aiffel-es-none/jellyfish-classification/runs/wo07fbga</a>"
      ],
      "text/plain": [
       "<IPython.core.display.HTML object>"
      ]
     },
     "metadata": {},
     "output_type": "display_data"
    },
    {
     "name": "stdout",
     "output_type": "stream",
     "text": [
      "Found 846 images belonging to 6 classes.\n",
      "Found 39 images belonging to 6 classes.\n",
      "Epoch 1/10\n",
      "53/53 [==============================] - 20s 226ms/step - loss: 1.8986 - accuracy: 0.1761 - val_loss: 1.8734 - val_accuracy: 0.2051\n",
      "Epoch 2/10\n",
      "53/53 [==============================] - 11s 205ms/step - loss: 1.8199 - accuracy: 0.2258 - val_loss: 1.8008 - val_accuracy: 0.2308\n",
      "Epoch 3/10\n",
      "53/53 [==============================] - 11s 209ms/step - loss: 1.7164 - accuracy: 0.2790 - val_loss: 1.7242 - val_accuracy: 0.2564\n",
      "Epoch 4/10\n",
      "53/53 [==============================] - 11s 205ms/step - loss: 1.6264 - accuracy: 0.3676 - val_loss: 1.6553 - val_accuracy: 0.3333\n",
      "Epoch 5/10\n",
      "53/53 [==============================] - 11s 207ms/step - loss: 1.5814 - accuracy: 0.3865 - val_loss: 1.5853 - val_accuracy: 0.4103\n",
      "Epoch 6/10\n",
      "53/53 [==============================] - 11s 206ms/step - loss: 1.4733 - accuracy: 0.4622 - val_loss: 1.5335 - val_accuracy: 0.5385\n",
      "Epoch 7/10\n",
      "53/53 [==============================] - 11s 205ms/step - loss: 1.4065 - accuracy: 0.5189 - val_loss: 1.4840 - val_accuracy: 0.5385\n",
      "Epoch 8/10\n",
      "53/53 [==============================] - 11s 203ms/step - loss: 1.3419 - accuracy: 0.5768 - val_loss: 1.4371 - val_accuracy: 0.6410\n",
      "Epoch 9/10\n",
      "53/53 [==============================] - 11s 204ms/step - loss: 1.2621 - accuracy: 0.5981 - val_loss: 1.3794 - val_accuracy: 0.6410\n",
      "Epoch 10/10\n",
      "53/53 [==============================] - 11s 204ms/step - loss: 1.1819 - accuracy: 0.6489 - val_loss: 1.3166 - val_accuracy: 0.6667\n",
      "Found 40 images belonging to 6 classes.\n",
      "3/3 [==============================] - 0s 28ms/step - loss: 1.1074 - accuracy: 0.7500\n",
      "Test Loss: 1.1074\n",
      "Test Accuracy: 0.7500\n"
     ]
    },
    {
     "data": {
      "image/png": "[encoded data removed]",
      "text/plain": [
       "<Figure size 864x360 with 2 Axes>"
      ]
     },
     "metadata": {
      "needs_background": "light"
     },
     "output_type": "display_data"
    },
    {
     "data": {
      "application/vnd.jupyter.widget-view+json": {
       "model_id": "",
       "version_major": 2,
       "version_minor": 0
      },
      "text/plain": [
       "VBox(children=(Label(value='0.001 MB of 0.004 MB uploaded\\r'), FloatProgress(value=0.3454412481716236, max=1.0…"
      ]
     },
     "metadata": {},
     "output_type": "display_data"
    },
    {
     "data": {
      "text/html": [
       "<style>\n",
       "    table.wandb td:nth-child(1) { padding: 0 10px; text-align: left ; width: auto;} td:nth-child(2) {text-align: left ; width: 100%}\n",
       "    .wandb-row { display: flex; flex-direction: row; flex-wrap: wrap; justify-content: flex-start; width: 100% }\n",
       "    .wandb-col { display: flex; flex-direction: column; flex-basis: 100%; flex: 1; padding: 10px; }\n",
       "    </style>\n",
       "<div class=\"wandb-row\"><div class=\"wandb-col\"><h3>Run history:</h3><br/><table class=\"wandb\"><tr><td>accuracy</td><td>▁</td></tr><tr><td>epoch/accuracy</td><td>▁▂▃▄▄▅▆▇▇█</td></tr><tr><td>epoch/epoch</td><td>▁▂▃▃▄▅▆▆▇█</td></tr><tr><td>epoch/learning_rate</td><td>▁▁▁▁▁▁▁▁▁▁</td></tr><tr><td>epoch/loss</td><td>█▇▆▅▅▄▃▃▂▁</td></tr><tr><td>epoch/lr</td><td>▁▁▁▁▁▁▁▁▁▁</td></tr><tr><td>epoch/val_accuracy</td><td>▁▁▂▃▄▆▆███</td></tr><tr><td>epoch/val_loss</td><td>█▇▆▅▄▄▃▃▂▁</td></tr><tr><td>loss</td><td>▁</td></tr><tr><td>test_accuracy</td><td>▁</td></tr><tr><td>test_loss</td><td>▁</td></tr><tr><td>val_accuracy</td><td>▁</td></tr><tr><td>val_loss</td><td>▁</td></tr></table><br/></div><div class=\"wandb-col\"><h3>Run summary:</h3><br/><table class=\"wandb\"><tr><td>accuracy</td><td>0.64894</td></tr><tr><td>epoch/accuracy</td><td>0.64894</td></tr><tr><td>epoch/epoch</td><td>9</td></tr><tr><td>epoch/learning_rate</td><td>1e-05</td></tr><tr><td>epoch/loss</td><td>1.18187</td></tr><tr><td>epoch/lr</td><td>1e-05</td></tr><tr><td>epoch/val_accuracy</td><td>0.66667</td></tr><tr><td>epoch/val_loss</td><td>1.31662</td></tr><tr><td>loss</td><td>1.18187</td></tr><tr><td>test_accuracy</td><td>0.75</td></tr><tr><td>test_loss</td><td>1.10738</td></tr><tr><td>val_accuracy</td><td>0.66667</td></tr><tr><td>val_loss</td><td>1.31662</td></tr></table><br/></div></div>"
      ],
      "text/plain": [
       "<IPython.core.display.HTML object>"
      ]
     },
     "metadata": {},
     "output_type": "display_data"
    },
    {
     "data": {
      "text/html": [
       " View run <strong style=\"color:#cdcd00\">fresh-sweep-3</strong> at: <a href='https://wandb.ai/aiffel-es-none/jellyfish-classification/runs/wo07fbga' target=\"_blank\">https://wandb.ai/aiffel-es-none/jellyfish-classification/runs/wo07fbga</a><br/>Synced 5 W&B file(s), 0 media file(s), 0 artifact file(s) and 0 other file(s)"
      ],
      "text/plain": [
       "<IPython.core.display.HTML object>"
      ]
     },
     "metadata": {},
     "output_type": "display_data"
    },
    {
     "data": {
      "text/html": [
       "Find logs at: <code>./wandb/run-20250227_032804-wo07fbga/logs</code>"
      ],
      "text/plain": [
       "<IPython.core.display.HTML object>"
      ]
     },
     "metadata": {},
     "output_type": "display_data"
    },
    {
     "name": "stderr",
     "output_type": "stream",
     "text": [
      "\u001b[34m\u001b[1mwandb\u001b[0m: Agent Starting Run: 6tz8l1md with config:\n",
      "\u001b[34m\u001b[1mwandb\u001b[0m: \tbatch_size: 64\n",
      "\u001b[34m\u001b[1mwandb\u001b[0m: \tdropout_rate: 0.5\n",
      "\u001b[34m\u001b[1mwandb\u001b[0m: \tepochs: 10\n",
      "\u001b[34m\u001b[1mwandb\u001b[0m: \tlearning_rate: 1e-05\n"
     ]
    },
    {
     "data": {
      "text/html": [
       "wandb version 0.19.7 is available!  To upgrade, please run:\n",
       " $ pip install wandb --upgrade"
      ],
      "text/plain": [
       "<IPython.core.display.HTML object>"
      ]
     },
     "metadata": {},
     "output_type": "display_data"
    },
    {
     "data": {
      "text/html": [
       "Tracking run with wandb version 0.16.0"
      ],
      "text/plain": [
       "<IPython.core.display.HTML object>"
      ]
     },
     "metadata": {},
     "output_type": "display_data"
    },
    {
     "data": {
      "text/html": [
       "Run data is saved locally in <code>/aiffel/aiffel/jellyfish/wandb/run-20250227_033016-6tz8l1md</code>"
      ],
      "text/plain": [
       "<IPython.core.display.HTML object>"
      ]
     },
     "metadata": {},
     "output_type": "display_data"
    },
    {
     "data": {
      "text/html": [
       "Syncing run <strong><a href='https://wandb.ai/aiffel-es-none/jellyfish-classification/runs/6tz8l1md' target=\"_blank\">bright-sweep-4</a></strong> to <a href='https://wandb.ai/aiffel-es-none/jellyfish-classification' target=\"_blank\">Weights & Biases</a> (<a href='https://wandb.me/run' target=\"_blank\">docs</a>)<br/>Sweep page: <a href='https://wandb.ai/aiffel-es-none/jellyfish-classification/sweeps/8twrl8wu' target=\"_blank\">https://wandb.ai/aiffel-es-none/jellyfish-classification/sweeps/8twrl8wu</a>"
      ],
      "text/plain": [
       "<IPython.core.display.HTML object>"
      ]
     },
     "metadata": {},
     "output_type": "display_data"
    },
    {
     "data": {
      "text/html": [
       " View project at <a href='https://wandb.ai/aiffel-es-none/jellyfish-classification' target=\"_blank\">https://wandb.ai/aiffel-es-none/jellyfish-classification</a>"
      ],
      "text/plain": [
       "<IPython.core.display.HTML object>"
      ]
     },
     "metadata": {},
     "output_type": "display_data"
    },
    {
     "data": {
      "text/html": [
       " View sweep at <a href='https://wandb.ai/aiffel-es-none/jellyfish-classification/sweeps/8twrl8wu' target=\"_blank\">https://wandb.ai/aiffel-es-none/jellyfish-classification/sweeps/8twrl8wu</a>"
      ],
      "text/plain": [
       "<IPython.core.display.HTML object>"
      ]
     },
     "metadata": {},
     "output_type": "display_data"
    },
    {
     "data": {
      "text/html": [
       " View run at <a href='https://wandb.ai/aiffel-es-none/jellyfish-classification/runs/6tz8l1md' target=\"_blank\">https://wandb.ai/aiffel-es-none/jellyfish-classification/runs/6tz8l1md</a>"
      ],
      "text/plain": [
       "<IPython.core.display.HTML object>"
      ]
     },
     "metadata": {},
     "output_type": "display_data"
    },
    {
     "name": "stdout",
     "output_type": "stream",
     "text": [
      "Found 846 images belonging to 6 classes.\n",
      "Found 39 images belonging to 6 classes.\n",
      "Epoch 1/10\n",
      " 6/14 [===========>..................] - ETA: 6s - loss: 1.9330 - accuracy: 0.1615WARNING:tensorflow:Callback method `on_train_batch_end` is slow compared to the batch time (batch time: 0.3758s vs `on_train_batch_end` time: 0.4362s). Check your callbacks.\n",
      "14/14 [==============================] - 21s 904ms/step - loss: 1.9039 - accuracy: 0.1761 - val_loss: 1.8493 - val_accuracy: 0.2051\n",
      "Epoch 2/10\n",
      "14/14 [==============================] - 12s 803ms/step - loss: 1.8706 - accuracy: 0.1903 - val_loss: 1.8224 - val_accuracy: 0.2821\n",
      "Epoch 3/10\n",
      "14/14 [==============================] - 12s 808ms/step - loss: 1.8322 - accuracy: 0.2045 - val_loss: 1.7921 - val_accuracy: 0.3077\n",
      "Epoch 4/10\n",
      "14/14 [==============================] - 12s 808ms/step - loss: 1.7836 - accuracy: 0.2411 - val_loss: 1.7656 - val_accuracy: 0.2821\n",
      "Epoch 5/10\n",
      "14/14 [==============================] - 12s 817ms/step - loss: 1.7508 - accuracy: 0.2494 - val_loss: 1.7382 - val_accuracy: 0.2821\n",
      "Epoch 6/10\n",
      "14/14 [==============================] - 12s 813ms/step - loss: 1.7014 - accuracy: 0.2730 - val_loss: 1.7087 - val_accuracy: 0.3077\n",
      "Epoch 7/10\n",
      "14/14 [==============================] - 12s 799ms/step - loss: 1.6599 - accuracy: 0.3274 - val_loss: 1.6807 - val_accuracy: 0.3846\n",
      "Epoch 8/10\n",
      "14/14 [==============================] - 12s 813ms/step - loss: 1.6301 - accuracy: 0.3522 - val_loss: 1.6503 - val_accuracy: 0.3590\n",
      "Epoch 9/10\n",
      "14/14 [==============================] - 12s 809ms/step - loss: 1.5969 - accuracy: 0.3759 - val_loss: 1.6221 - val_accuracy: 0.3846\n",
      "Epoch 10/10\n",
      "14/14 [==============================] - 12s 818ms/step - loss: 1.5624 - accuracy: 0.3960 - val_loss: 1.5947 - val_accuracy: 0.4103\n",
      "Found 40 images belonging to 6 classes.\n",
      "1/1 [==============================] - 0s 183ms/step - loss: 1.5268 - accuracy: 0.5250\n",
      "Test Loss: 1.5268\n",
      "Test Accuracy: 0.5250\n"
     ]
    },
    {
     "data": {
      "image/png": "[encoded data removed]",
      "text/plain": [
       "<Figure size 864x360 with 2 Axes>"
      ]
     },
     "metadata": {
      "needs_background": "light"
     },
     "output_type": "display_data"
    },
    {
     "data": {
      "application/vnd.jupyter.widget-view+json": {
       "model_id": "",
       "version_major": 2,
       "version_minor": 0
      },
      "text/plain": [
       "VBox(children=(Label(value='0.001 MB of 0.001 MB uploaded\\r'), FloatProgress(value=1.0, max=1.0)))"
      ]
     },
     "metadata": {},
     "output_type": "display_data"
    },
    {
     "data": {
      "text/html": [
       "<style>\n",
       "    table.wandb td:nth-child(1) { padding: 0 10px; text-align: left ; width: auto;} td:nth-child(2) {text-align: left ; width: 100%}\n",
       "    .wandb-row { display: flex; flex-direction: row; flex-wrap: wrap; justify-content: flex-start; width: 100% }\n",
       "    .wandb-col { display: flex; flex-direction: column; flex-basis: 100%; flex: 1; padding: 10px; }\n",
       "    </style>\n",
       "<div class=\"wandb-row\"><div class=\"wandb-col\"><h3>Run history:</h3><br/><table class=\"wandb\"><tr><td>accuracy</td><td>▁</td></tr><tr><td>epoch/accuracy</td><td>▁▁▂▃▃▄▆▇▇█</td></tr><tr><td>epoch/epoch</td><td>▁▂▃▃▄▅▆▆▇█</td></tr><tr><td>epoch/learning_rate</td><td>▁▁▁▁▁▁▁▁▁▁</td></tr><tr><td>epoch/loss</td><td>█▇▇▆▅▄▃▂▂▁</td></tr><tr><td>epoch/lr</td><td>▁▁▁▁▁▁▁▁▁▁</td></tr><tr><td>epoch/val_accuracy</td><td>▁▄▅▄▄▅▇▆▇█</td></tr><tr><td>epoch/val_loss</td><td>█▇▆▆▅▄▃▃▂▁</td></tr><tr><td>loss</td><td>▁</td></tr><tr><td>test_accuracy</td><td>▁</td></tr><tr><td>test_loss</td><td>▁</td></tr><tr><td>val_accuracy</td><td>▁</td></tr><tr><td>val_loss</td><td>▁</td></tr></table><br/></div><div class=\"wandb-col\"><h3>Run summary:</h3><br/><table class=\"wandb\"><tr><td>accuracy</td><td>0.39598</td></tr><tr><td>epoch/accuracy</td><td>0.39598</td></tr><tr><td>epoch/epoch</td><td>9</td></tr><tr><td>epoch/learning_rate</td><td>1e-05</td></tr><tr><td>epoch/loss</td><td>1.56245</td></tr><tr><td>epoch/lr</td><td>1e-05</td></tr><tr><td>epoch/val_accuracy</td><td>0.41026</td></tr><tr><td>epoch/val_loss</td><td>1.59475</td></tr><tr><td>loss</td><td>1.56245</td></tr><tr><td>test_accuracy</td><td>0.525</td></tr><tr><td>test_loss</td><td>1.52682</td></tr><tr><td>val_accuracy</td><td>0.41026</td></tr><tr><td>val_loss</td><td>1.59475</td></tr></table><br/></div></div>"
      ],
      "text/plain": [
       "<IPython.core.display.HTML object>"
      ]
     },
     "metadata": {},
     "output_type": "display_data"
    },
    {
     "data": {
      "text/html": [
       " View run <strong style=\"color:#cdcd00\">bright-sweep-4</strong> at: <a href='https://wandb.ai/aiffel-es-none/jellyfish-classification/runs/6tz8l1md' target=\"_blank\">https://wandb.ai/aiffel-es-none/jellyfish-classification/runs/6tz8l1md</a><br/>Synced 5 W&B file(s), 0 media file(s), 0 artifact file(s) and 0 other file(s)"
      ],
      "text/plain": [
       "<IPython.core.display.HTML object>"
      ]
     },
     "metadata": {},
     "output_type": "display_data"
    },
    {
     "data": {
      "text/html": [
       "Find logs at: <code>./wandb/run-20250227_033016-6tz8l1md/logs</code>"
      ],
      "text/plain": [
       "<IPython.core.display.HTML object>"
      ]
     },
     "metadata": {},
     "output_type": "display_data"
    },
    {
     "name": "stderr",
     "output_type": "stream",
     "text": [
      "\u001b[34m\u001b[1mwandb\u001b[0m: Agent Starting Run: 57l96tkg with config:\n",
      "\u001b[34m\u001b[1mwandb\u001b[0m: \tbatch_size: 64\n",
      "\u001b[34m\u001b[1mwandb\u001b[0m: \tdropout_rate: 0.3\n",
      "\u001b[34m\u001b[1mwandb\u001b[0m: \tepochs: 10\n",
      "\u001b[34m\u001b[1mwandb\u001b[0m: \tlearning_rate: 5e-05\n"
     ]
    },
    {
     "data": {
      "text/html": [
       "wandb version 0.19.7 is available!  To upgrade, please run:\n",
       " $ pip install wandb --upgrade"
      ],
      "text/plain": [
       "<IPython.core.display.HTML object>"
      ]
     },
     "metadata": {},
     "output_type": "display_data"
    },
    {
     "data": {
      "text/html": [
       "Tracking run with wandb version 0.16.0"
      ],
      "text/plain": [
       "<IPython.core.display.HTML object>"
      ]
     },
     "metadata": {},
     "output_type": "display_data"
    },
    {
     "data": {
      "text/html": [
       "Run data is saved locally in <code>/aiffel/aiffel/jellyfish/wandb/run-20250227_033239-57l96tkg</code>"
      ],
      "text/plain": [
       "<IPython.core.display.HTML object>"
      ]
     },
     "metadata": {},
     "output_type": "display_data"
    },
    {
     "data": {
      "text/html": [
       "Syncing run <strong><a href='https://wandb.ai/aiffel-es-none/jellyfish-classification/runs/57l96tkg' target=\"_blank\">tough-sweep-5</a></strong> to <a href='https://wandb.ai/aiffel-es-none/jellyfish-classification' target=\"_blank\">Weights & Biases</a> (<a href='https://wandb.me/run' target=\"_blank\">docs</a>)<br/>Sweep page: <a href='https://wandb.ai/aiffel-es-none/jellyfish-classification/sweeps/8twrl8wu' target=\"_blank\">https://wandb.ai/aiffel-es-none/jellyfish-classification/sweeps/8twrl8wu</a>"
      ],
      "text/plain": [
       "<IPython.core.display.HTML object>"
      ]
     },
     "metadata": {},
     "output_type": "display_data"
    },
    {
     "data": {
      "text/html": [
       " View project at <a href='https://wandb.ai/aiffel-es-none/jellyfish-classification' target=\"_blank\">https://wandb.ai/aiffel-es-none/jellyfish-classification</a>"
      ],
      "text/plain": [
       "<IPython.core.display.HTML object>"
      ]
     },
     "metadata": {},
     "output_type": "display_data"
    },
    {
     "data": {
      "text/html": [
       " View sweep at <a href='https://wandb.ai/aiffel-es-none/jellyfish-classification/sweeps/8twrl8wu' target=\"_blank\">https://wandb.ai/aiffel-es-none/jellyfish-classification/sweeps/8twrl8wu</a>"
      ],
      "text/plain": [
       "<IPython.core.display.HTML object>"
      ]
     },
     "metadata": {},
     "output_type": "display_data"
    },
    {
     "data": {
      "text/html": [
       " View run at <a href='https://wandb.ai/aiffel-es-none/jellyfish-classification/runs/57l96tkg' target=\"_blank\">https://wandb.ai/aiffel-es-none/jellyfish-classification/runs/57l96tkg</a>"
      ],
      "text/plain": [
       "<IPython.core.display.HTML object>"
      ]
     },
     "metadata": {},
     "output_type": "display_data"
    },
    {
     "name": "stdout",
     "output_type": "stream",
     "text": [
      "Found 846 images belonging to 6 classes.\n",
      "Found 39 images belonging to 6 classes.\n",
      "Epoch 1/10\n",
      " 6/14 [===========>..................] - ETA: 6s - loss: 1.9510 - accuracy: 0.1302WARNING:tensorflow:Callback method `on_train_batch_end` is slow compared to the batch time (batch time: 0.3793s vs `on_train_batch_end` time: 0.4434s). Check your callbacks.\n",
      "14/14 [==============================] - 21s 914ms/step - loss: 1.8619 - accuracy: 0.1690 - val_loss: 1.7928 - val_accuracy: 0.2308\n",
      "Epoch 2/10\n",
      "14/14 [==============================] - 12s 805ms/step - loss: 1.6118 - accuracy: 0.3652 - val_loss: 1.6916 - val_accuracy: 0.2821\n",
      "Epoch 3/10\n",
      "14/14 [==============================] - 12s 865ms/step - loss: 1.4284 - accuracy: 0.5414 - val_loss: 1.5852 - val_accuracy: 0.4103\n",
      "Epoch 4/10\n",
      "14/14 [==============================] - 12s 815ms/step - loss: 1.2398 - accuracy: 0.6773 - val_loss: 1.4653 - val_accuracy: 0.4872\n",
      "Epoch 5/10\n",
      "14/14 [==============================] - 12s 792ms/step - loss: 1.0549 - accuracy: 0.7612 - val_loss: 1.3246 - val_accuracy: 0.5385\n",
      "Epoch 6/10\n",
      "14/14 [==============================] - 12s 808ms/step - loss: 0.8818 - accuracy: 0.8144 - val_loss: 1.1664 - val_accuracy: 0.5641\n",
      "Epoch 7/10\n",
      "14/14 [==============================] - 12s 799ms/step - loss: 0.7113 - accuracy: 0.8511 - val_loss: 1.0255 - val_accuracy: 0.6667\n",
      "Epoch 8/10\n",
      "14/14 [==============================] - 12s 807ms/step - loss: 0.5868 - accuracy: 0.8700 - val_loss: 0.9197 - val_accuracy: 0.6667\n",
      "Epoch 9/10\n",
      "14/14 [==============================] - 11s 764ms/step - loss: 0.4809 - accuracy: 0.8924 - val_loss: 0.8680 - val_accuracy: 0.6923\n",
      "Epoch 10/10\n",
      "14/14 [==============================] - 12s 794ms/step - loss: 0.3919 - accuracy: 0.9125 - val_loss: 0.8515 - val_accuracy: 0.6923\n",
      "Found 40 images belonging to 6 classes.\n",
      "1/1 [==============================] - 0s 178ms/step - loss: 0.3226 - accuracy: 0.9000\n",
      "Test Loss: 0.3226\n",
      "Test Accuracy: 0.9000\n"
     ]
    },
    {
     "data": {
      "image/png": "[encoded data removed]",
      "text/plain": [
       "<Figure size 864x360 with 2 Axes>"
      ]
     },
     "metadata": {
      "needs_background": "light"
     },
     "output_type": "display_data"
    },
    {
     "data": {
      "application/vnd.jupyter.widget-view+json": {
       "model_id": "",
       "version_major": 2,
       "version_minor": 0
      },
      "text/plain": [
       "VBox(children=(Label(value='0.010 MB of 0.010 MB uploaded\\r'), FloatProgress(value=1.0, max=1.0)))"
      ]
     },
     "metadata": {},
     "output_type": "display_data"
    },
    {
     "data": {
      "text/html": [
       "<style>\n",
       "    table.wandb td:nth-child(1) { padding: 0 10px; text-align: left ; width: auto;} td:nth-child(2) {text-align: left ; width: 100%}\n",
       "    .wandb-row { display: flex; flex-direction: row; flex-wrap: wrap; justify-content: flex-start; width: 100% }\n",
       "    .wandb-col { display: flex; flex-direction: column; flex-basis: 100%; flex: 1; padding: 10px; }\n",
       "    </style>\n",
       "<div class=\"wandb-row\"><div class=\"wandb-col\"><h3>Run history:</h3><br/><table class=\"wandb\"><tr><td>accuracy</td><td>▁</td></tr><tr><td>epoch/accuracy</td><td>▁▃▅▆▇▇▇███</td></tr><tr><td>epoch/epoch</td><td>▁▂▃▃▄▅▆▆▇█</td></tr><tr><td>epoch/learning_rate</td><td>▁▁▁▁▁▁▁▁▁▁</td></tr><tr><td>epoch/loss</td><td>█▇▆▅▄▃▃▂▁▁</td></tr><tr><td>epoch/lr</td><td>▁▁▁▁▁▁▁▁▁▁</td></tr><tr><td>epoch/val_accuracy</td><td>▁▂▄▅▆▆████</td></tr><tr><td>epoch/val_loss</td><td>█▇▆▆▅▃▂▂▁▁</td></tr><tr><td>loss</td><td>▁</td></tr><tr><td>test_accuracy</td><td>▁</td></tr><tr><td>test_loss</td><td>▁</td></tr><tr><td>val_accuracy</td><td>▁</td></tr><tr><td>val_loss</td><td>▁</td></tr></table><br/></div><div class=\"wandb-col\"><h3>Run summary:</h3><br/><table class=\"wandb\"><tr><td>accuracy</td><td>0.91253</td></tr><tr><td>epoch/accuracy</td><td>0.91253</td></tr><tr><td>epoch/epoch</td><td>9</td></tr><tr><td>epoch/learning_rate</td><td>5e-05</td></tr><tr><td>epoch/loss</td><td>0.39194</td></tr><tr><td>epoch/lr</td><td>5e-05</td></tr><tr><td>epoch/val_accuracy</td><td>0.69231</td></tr><tr><td>epoch/val_loss</td><td>0.85154</td></tr><tr><td>loss</td><td>0.39194</td></tr><tr><td>test_accuracy</td><td>0.9</td></tr><tr><td>test_loss</td><td>0.32264</td></tr><tr><td>val_accuracy</td><td>0.69231</td></tr><tr><td>val_loss</td><td>0.85154</td></tr></table><br/></div></div>"
      ],
      "text/plain": [
       "<IPython.core.display.HTML object>"
      ]
     },
     "metadata": {},
     "output_type": "display_data"
    },
    {
     "data": {
      "text/html": [
       " View run <strong style=\"color:#cdcd00\">tough-sweep-5</strong> at: <a href='https://wandb.ai/aiffel-es-none/jellyfish-classification/runs/57l96tkg' target=\"_blank\">https://wandb.ai/aiffel-es-none/jellyfish-classification/runs/57l96tkg</a><br/>Synced 5 W&B file(s), 0 media file(s), 0 artifact file(s) and 0 other file(s)"
      ],
      "text/plain": [
       "<IPython.core.display.HTML object>"
      ]
     },
     "metadata": {},
     "output_type": "display_data"
    },
    {
     "data": {
      "text/html": [
       "Find logs at: <code>./wandb/run-20250227_033239-57l96tkg/logs</code>"
      ],
      "text/plain": [
       "<IPython.core.display.HTML object>"
      ]
     },
     "metadata": {},
     "output_type": "display_data"
    }
   ],
   "source": [
    "# Sweep을 위한 학습 함수\n",
    "def train_sweep():\n",
    "    with wandb.init():\n",
    "        config = wandb.config  # Sweep 하이퍼파라미터 가져오기\n",
    "        \n",
    "        # EfficientNetB0 모델 불러오기\n",
    "        base_model = EfficientNetB0(weights='imagenet', include_top=False, input_shape=(224, 224, 3))\n",
    "\n",
    "        # 새 Fully Connected Layer 추가\n",
    "        x = GlobalAveragePooling2D()(base_model.output)\n",
    "        x = Dense(256, activation='relu')(x)\n",
    "        x = Dropout(config.dropout_rate)(x)  # Sweep에서 dropout 값을 자동으로 변경\n",
    "        x = Dense(6, activation='softmax')(x)\n",
    "\n",
    "        # 새로운 모델 생성\n",
    "        model = Model(inputs=base_model.input, outputs=x)\n",
    "\n",
    "        # EfficientNetB0 일부 레이어만 학습 가능하도록 설정\n",
    "        for layer in base_model.layers[:-50]:  # 마지막 50개 레이어만 학습\n",
    "            layer.trainable = True\n",
    "\n",
    "        # 모델 컴파일\n",
    "        model.compile(optimizer=Adam(learning_rate=config.learning_rate),\n",
    "                      loss='categorical_crossentropy', metrics=['accuracy'])\n",
    "\n",
    "        # 데이터 증강 및 전처리\n",
    "        train_datagen = ImageDataGenerator(\n",
    "            rescale=1./255,\n",
    "            rotation_range=30,\n",
    "            width_shift_range=0.2,\n",
    "            height_shift_range=0.2,\n",
    "            shear_range=0.2,\n",
    "            zoom_range=0.2,\n",
    "            horizontal_flip=True,\n",
    "            vertical_flip=True\n",
    "        )\n",
    "        valid_test_datagen = ImageDataGenerator(rescale=1./255)\n",
    "\n",
    "        train_generator = train_datagen.flow_from_directory(\n",
    "            train_dir, target_size=(224, 224), batch_size=config.batch_size, class_mode='categorical')\n",
    "        val_generator = valid_test_datagen.flow_from_directory(\n",
    "            valid_dir, target_size=(224, 224), batch_size=config.batch_size, class_mode='categorical')\n",
    "\n",
    "        # 콜백 함수 설정\n",
    "        early_stopping = EarlyStopping(monitor='val_loss', patience=5, restore_best_weights=True)\n",
    "        reduce_lr = ReduceLROnPlateau(monitor='val_loss', factor=0.2, patience=3, min_lr=1e-7)\n",
    "\n",
    "        # 모델 학습\n",
    "        history = model.fit(\n",
    "            train_generator,\n",
    "            validation_data=val_generator,\n",
    "            epochs=config.epochs,\n",
    "            callbacks=[early_stopping, reduce_lr, WandbMetricsLogger()]\n",
    "        )\n",
    "        \n",
    "        # 🔹 W&B에 loss, accuracy 기록\n",
    "        wandb.log({\n",
    "            \"loss\": history.history[\"loss\"][-1],\n",
    "            \"val_loss\": history.history[\"val_loss\"][-1],\n",
    "            \"accuracy\": history.history[\"accuracy\"][-1],\n",
    "            \"val_accuracy\": history.history[\"val_accuracy\"][-1]\n",
    "        })\n",
    "\n",
    "        # 테스트 데이터 불러오기\n",
    "        test_generator = valid_test_datagen.flow_from_directory(\n",
    "            test_dir, target_size=(224, 224), batch_size=config.batch_size, class_mode='categorical')\n",
    "\n",
    "        # 모델 평가\n",
    "        loss, acc = model.evaluate(test_generator)\n",
    "\n",
    "        # 🔹 W&B에 테스트 결과 저장\n",
    "        wandb.log({\n",
    "            \"test_loss\": loss,\n",
    "            \"test_accuracy\": acc\n",
    "        })\n",
    "\n",
    "        print(f\"Test Loss: {loss:.4f}\")\n",
    "        print(f\"Test Accuracy: {acc:.4f}\")\n",
    "\n",
    "        # 모델 저장\n",
    "        model.save(f\"efficientnetb0_jellyfish_{wandb.run.name}.h5\")\n",
    "\n",
    "        # 학습 결과 시각화\n",
    "        plt.figure(figsize=(12, 5))\n",
    "        plt.subplot(1, 2, 1)\n",
    "        plt.plot(history.history['accuracy'], label='Train Accuracy')\n",
    "        plt.plot(history.history['val_accuracy'], label='Validation Accuracy')\n",
    "        plt.xlabel('Epochs')\n",
    "        plt.ylabel('Accuracy')\n",
    "        plt.legend()\n",
    "        plt.title('Accuracy over Epochs')\n",
    "\n",
    "        plt.subplot(1, 2, 2)\n",
    "        plt.plot(history.history['loss'], label='Train Loss')\n",
    "        plt.plot(history.history['val_loss'], label='Validation Loss')\n",
    "        plt.xlabel('Epochs')\n",
    "        plt.ylabel('Loss')\n",
    "        plt.legend()\n",
    "        plt.title('Loss over Epochs')\n",
    "\n",
    "        plt.show()\n",
    "\n",
    "# Sweep 실행\n",
    "wandb.agent(sweep_id, train_sweep, count=5)\n",
    "\n",
    "# W&B 종료\n",
    "wandb.finish()"
   ]
  },
  {
   "cell_type": "code",
   "execution_count": 100,
   "id": "df4b7811",
   "metadata": {},
   "outputs": [],
   "source": [
    "# W&B API 인스턴스 생성\n",
    "api = wandb.Api()\n",
    "\n",
    "entity_name = \"aiffel-es-none\"  # W&B 계정명 (프로젝트 소유자)\n",
    "project_name = \"jellyfish-classification\"  # 프로젝트명"
   ]
  },
  {
   "cell_type": "code",
   "execution_count": 102,
   "id": "5d1de7a8",
   "metadata": {},
   "outputs": [
    {
     "name": "stdout",
     "output_type": "stream",
     "text": [
      "📌 최적 모델 이름: fanciful-sweep-2\n",
      "\n",
      "✅ 최적의 하이퍼파라미터:\n",
      " {'epochs': 30, 'batch_size': 16, 'dropout_rate': 0.5, 'learning_rate': 0.0001}\n",
      "\n",
      "✅ 최적의 모델 성능:\n",
      "Loss: 0.09815017133951189\n",
      "Validation Loss: 0.7384576797485352\n",
      "Accuracy: 97.52%\n",
      "Validation Accuracy: 79.49%\n"
     ]
    }
   ],
   "source": [
    "# Sweep 불러오기\n",
    "sweep_id = \"8twrl8wu\"  # Sweep ID\n",
    "sweep = api.sweep(f\"{entity_name}/{project_name}/{sweep_id}\")\n",
    "\n",
    "# 최적의 실험 찾기 (validation accuracy 기준)\n",
    "best_run = max(sweep.runs, key=lambda run: run.summary.get(\"val_accuracy\", 0))\n",
    "\n",
    "# ✅ 최적의 모델 이름\n",
    "print(f\"📌 최적 모델 이름: {best_run.name}\")\n",
    "\n",
    "# ✅ 최적의 하이퍼파라미터 출력\n",
    "best_params = best_run.config\n",
    "print(f\"\\n✅ 최적의 하이퍼파라미터:\\n {best_params}\")\n",
    "\n",
    "# ✅ 최적의 모델 성능 출력 (loss, accuracy 등)\n",
    "best_metrics = best_run.summary\n",
    "print(\"\\n✅ 최적의 모델 성능:\")\n",
    "\n",
    "# Loss 값은 그대로 출력\n",
    "print(f\"Loss: {best_metrics.get('loss', 'N/A')}\")\n",
    "print(f\"Validation Loss: {best_metrics.get('val_loss', 'N/A')}\")\n",
    "\n",
    "# Accuracy 값을 퍼센트로 변환\n",
    "accuracy = best_metrics.get('accuracy', None)\n",
    "val_accuracy = best_metrics.get('val_accuracy', None)\n",
    "\n",
    "if accuracy is not None:\n",
    "    print(f\"Accuracy: {accuracy * 100:.2f}%\")\n",
    "else:\n",
    "    print(\"Accuracy: N/A\")\n",
    "\n",
    "if val_accuracy is not None:\n",
    "    print(f\"Validation Accuracy: {val_accuracy * 100:.2f}%\")\n",
    "else:\n",
    "    print(\"Validation Accuracy: N/A\")"
   ]
  },
  {
   "cell_type": "markdown",
   "id": "f8590724",
   "metadata": {},
   "source": [
    "## 2. Dense 512"
   ]
  },
  {
   "cell_type": "markdown",
   "id": "7b0b66a6",
   "metadata": {},
   "source": [
    "### 2-1. sweep ID: qlgomcrf"
   ]
  },
  {
   "cell_type": "code",
   "execution_count": 103,
   "id": "6c0b7e68",
   "metadata": {},
   "outputs": [
    {
     "name": "stdout",
     "output_type": "stream",
     "text": [
      "Create sweep with ID: qlgomcrf\n",
      "Sweep URL: https://wandb.ai/aiffel-es-none/jellyfish-classification/sweeps/qlgomcrf\n"
     ]
    }
   ],
   "source": [
    "# Sweep 생성\n",
    "sweep_id = wandb.sweep(sweep_config, project=\"jellyfish-classification\")"
   ]
  },
  {
   "cell_type": "code",
   "execution_count": 105,
   "id": "17b94f36",
   "metadata": {},
   "outputs": [
    {
     "name": "stdout",
     "output_type": "stream",
     "text": [
      "📌 최적 모델 이름: wise-sweep-5\n",
      "\n",
      "✅ 최적의 하이퍼파라미터:\n",
      " {'epochs': 10, 'batch_size': 16, 'dropout_rate': 0.2, 'learning_rate': 0.0001}\n",
      "\n",
      "✅ 최적의 모델 성능:\n",
      "Loss: 0.06542801111936569\n",
      "Validation Loss: 0.6331390738487244\n",
      "Accuracy: 98.35%\n",
      "Validation Accuracy: 84.62%\n"
     ]
    }
   ],
   "source": [
    "# Sweep 불러오기\n",
    "sweep_id = \"qlgomcrf\"  # Sweep ID\n",
    "sweep = api.sweep(f\"{entity_name}/{project_name}/{sweep_id}\")\n",
    "\n",
    "# 최적의 실험 찾기 (validation accuracy 기준)\n",
    "best_run = max(sweep.runs, key=lambda run: run.summary.get(\"val_accuracy\", 0))\n",
    "\n",
    "# ✅ 최적의 모델 이름\n",
    "print(f\"📌 최적 모델 이름: {best_run.name}\")\n",
    "\n",
    "# ✅ 최적의 하이퍼파라미터 출력\n",
    "best_params = best_run.config\n",
    "print(f\"\\n✅ 최적의 하이퍼파라미터:\\n {best_params}\")\n",
    "\n",
    "# ✅ 최적의 모델 성능 출력 (loss, accuracy 등)\n",
    "best_metrics = best_run.summary\n",
    "print(\"\\n✅ 최적의 모델 성능:\")\n",
    "\n",
    "# Loss 값은 그대로 출력\n",
    "print(f\"Loss: {best_metrics.get('loss', 'N/A')}\")\n",
    "print(f\"Validation Loss: {best_metrics.get('val_loss', 'N/A')}\")\n",
    "\n",
    "# Accuracy 값을 퍼센트로 변환\n",
    "accuracy = best_metrics.get('accuracy', None)\n",
    "val_accuracy = best_metrics.get('val_accuracy', None)\n",
    "\n",
    "if accuracy is not None:\n",
    "    print(f\"Accuracy: {accuracy * 100:.2f}%\")\n",
    "else:\n",
    "    print(\"Accuracy: N/A\")\n",
    "\n",
    "if val_accuracy is not None:\n",
    "    print(f\"Validation Accuracy: {val_accuracy * 100:.2f}%\")\n",
    "else:\n",
    "    print(\"Validation Accuracy: N/A\")"
   ]
  },
  {
   "cell_type": "markdown",
   "id": "9ccce0bc",
   "metadata": {},
   "source": [
    "### 2-2. sweep ID: hj9wcom8"
   ]
  },
  {
   "cell_type": "code",
   "execution_count": 112,
   "id": "72fa9bc6",
   "metadata": {},
   "outputs": [
    {
     "name": "stdout",
     "output_type": "stream",
     "text": [
      "Create sweep with ID: hj9wcom8\n",
      "Sweep URL: https://wandb.ai/aiffel-es-none/jellyfish-classification/sweeps/hj9wcom8\n"
     ]
    }
   ],
   "source": [
    "# Sweep 생성\n",
    "sweep_id = wandb.sweep(sweep_config, project=\"jellyfish-classification\")"
   ]
  },
  {
   "cell_type": "code",
   "execution_count": 115,
   "id": "0b0883dd",
   "metadata": {},
   "outputs": [
    {
     "name": "stdout",
     "output_type": "stream",
     "text": [
      "📌 최적 모델 이름: whole-sweep-4\n",
      "\n",
      "✅ 최적의 하이퍼파라미터:\n",
      " {'epochs': 30, 'batch_size': 16, 'dropout_rate': 0.3, 'learning_rate': 5e-05}\n",
      "\n",
      "✅ 최적의 모델 성능:\n",
      "Loss: 0.07280300557613373\n",
      "Validation Loss: 0.7122751474380493\n",
      "Accuracy: 98.23%\n",
      "Validation Accuracy: 79.49%\n"
     ]
    }
   ],
   "source": [
    "# Sweep 불러오기\n",
    "sweep_id = \"hj9wcom8\"  # Sweep ID\n",
    "sweep = api.sweep(f\"{entity_name}/{project_name}/{sweep_id}\")\n",
    "\n",
    "# 최적의 실험 찾기 (validation accuracy 기준)\n",
    "best_run = max(sweep.runs, key=lambda run: run.summary.get(\"val_accuracy\", 0))\n",
    "\n",
    "# ✅ 최적의 모델 이름\n",
    "print(f\"📌 최적 모델 이름: {best_run.name}\")\n",
    "\n",
    "# ✅ 최적의 하이퍼파라미터 출력\n",
    "best_params = best_run.config\n",
    "print(f\"\\n✅ 최적의 하이퍼파라미터:\\n {best_params}\")\n",
    "\n",
    "# ✅ 최적의 모델 성능 출력 (loss, accuracy 등)\n",
    "best_metrics = best_run.summary\n",
    "print(\"\\n✅ 최적의 모델 성능:\")\n",
    "\n",
    "# Loss 값은 그대로 출력\n",
    "print(f\"Loss: {best_metrics.get('loss', 'N/A')}\")\n",
    "print(f\"Validation Loss: {best_metrics.get('val_loss', 'N/A')}\")\n",
    "\n",
    "# Accuracy 값을 퍼센트로 변환\n",
    "accuracy = best_metrics.get('accuracy', None)\n",
    "val_accuracy = best_metrics.get('val_accuracy', None)\n",
    "\n",
    "if accuracy is not None:\n",
    "    print(f\"Accuracy: {accuracy * 100:.2f}%\")\n",
    "else:\n",
    "    print(\"Accuracy: N/A\")\n",
    "\n",
    "if val_accuracy is not None:\n",
    "    print(f\"Validation Accuracy: {val_accuracy * 100:.2f}%\")\n",
    "else:\n",
    "    print(\"Validation Accuracy: N/A\")"
   ]
  },
  {
   "cell_type": "markdown",
   "id": "588c275d",
   "metadata": {},
   "source": [
    "# 최적의 하이퍼파라미터"
   ]
  },
  {
   "cell_type": "code",
   "execution_count": 116,
   "id": "7ce2bd28",
   "metadata": {},
   "outputs": [],
   "source": [
    "# W&B Sweep 설정 (하이퍼파라미터 검색)\n",
    "sweep_config = {\n",
    "    \"method\": \"grid\",  # 모든 조합을 시도하려면 \"grid\", 무작위 탐색은 \"random\"\n",
    "    \"metric\": {\"name\": \"val_accuracy\", \"goal\": \"maximize\"},\n",
    "    \"parameters\": {\n",
    "        \"learning_rate\": {\"values\": [0.0001]},\n",
    "        \"batch_size\": {\"values\": [16]}, \n",
    "        \"dropout_rate\": {\"values\": [0.2]}, \n",
    "        \"epochs\": {\"values\": [10]} \n",
    "    },\n",
    "}"
   ]
  },
  {
   "cell_type": "code",
   "execution_count": 117,
   "id": "1f2812d8",
   "metadata": {},
   "outputs": [
    {
     "name": "stdout",
     "output_type": "stream",
     "text": [
      "Create sweep with ID: 41ylw4po\n",
      "Sweep URL: https://wandb.ai/aiffel-es-none/jellyfish-classification/sweeps/41ylw4po\n"
     ]
    }
   ],
   "source": [
    "# Sweep 생성\n",
    "sweep_id = wandb.sweep(sweep_config, project=\"jellyfish-classification\")"
   ]
  },
  {
   "cell_type": "code",
   "execution_count": 122,
   "id": "bd5619d6",
   "metadata": {},
   "outputs": [
    {
     "name": "stdout",
     "output_type": "stream",
     "text": [
      "Loss: 0.07280300557613373\n",
      "Validation Loss: 0.7122751474380493\n",
      "Accuracy: 98.23%\n",
      "Validation Accuracy: 79.49%\n"
     ]
    }
   ],
   "source": [
    "# Sweep 불러오기\n",
    "sweep_id = \"41ylw4po\"  # Sweep ID\n",
    "sweep = api.sweep(f\"{entity_name}/{project_name}/{sweep_id}\")\n",
    "\n",
    "# ✅ Loss 및 Accuracy 출력\n",
    "print(f\"Loss: {best_metrics.get('loss', 'N/A')}\")\n",
    "print(f\"Validation Loss: {best_metrics.get('val_loss', 'N/A')}\")\n",
    "\n",
    "accuracy = best_metrics.get('accuracy', None)\n",
    "val_accuracy = best_metrics.get('val_accuracy', None)\n",
    "\n",
    "if accuracy is not None:\n",
    "    print(f\"Accuracy: {accuracy * 100:.2f}%\")\n",
    "else:\n",
    "    print(\"Accuracy: N/A\")\n",
    "\n",
    "if val_accuracy is not None:\n",
    "    print(f\"Validation Accuracy: {val_accuracy * 100:.2f}%\")\n",
    "else:\n",
    "    print(\"Validation Accuracy: N/A\")"
   ]
  },
  {
   "cell_type": "code",
   "execution_count": null,
   "id": "26841477",
   "metadata": {},
   "outputs": [],
   "source": []
  }
 ],
 "metadata": {
  "kernelspec": {
   "display_name": "Python 3 (ipykernel)",
   "language": "python",
   "name": "python3"
  },
  "language_info": {
   "codemirror_mode": {
    "name": "ipython",
    "version": 3
   },
   "file_extension": ".py",
   "mimetype": "text/x-python",
   "name": "python",
   "nbconvert_exporter": "python",
   "pygments_lexer": "ipython3",
   "version": "3.9.7"
  }
 },
 "nbformat": 4,
 "nbformat_minor": 5
}
