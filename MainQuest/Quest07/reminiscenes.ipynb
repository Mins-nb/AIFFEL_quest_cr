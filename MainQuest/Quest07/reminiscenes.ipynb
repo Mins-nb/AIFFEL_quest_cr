{
  "nbformat": 4,
  "nbformat_minor": 0,
  "metadata": {
    "colab": {
      "provenance": []
    },
    "kernelspec": {
      "name": "python3",
      "display_name": "Python 3"
    },
    "language_info": {
      "name": "python"
    }
  },
  "cells": [
    {
      "cell_type": "markdown",
      "source": [
        "# 회고\n",
        "\n",
        "### 코더 : 강민성\n",
        "\n",
        "오늘은 아이펠톤 시작 전 마지막 메인 퀘스트를 진행하였습니다. 용종 검출을 위한 의료 데이터셋을 받아서 이미지 안의 용종을 학습을 통해 더 잘 발견하게 만드는 작업을 하였습니다. 노드를 진행하면서 잘 넘어가던 진도가 다른 모델을 사용해서 직접 학습을 시켜야 할 때 위기가 찾아왔습니다. 메모리 부족 오류는 물론이고 하이퍼파라미터를 조정하자마자 다른 코드와 부딪혀서 오류가 발생하고.. 이런 굴레에 빠졌습니다. 시간이 부족해서 손실 값과 정확도를 더 끌어 올리지 못한 게 아쉽습니다."
      ],
      "metadata": {
        "id": "QcZqp7NZT6BD"
      }
    }
  ]
}